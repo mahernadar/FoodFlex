{
 "cells": [
  {
   "cell_type": "code",
   "execution_count": null,
   "metadata": {},
   "outputs": [],
   "source": [
    "import pandas as pd\n",
    "import numpy as np\n",
    "import re\n",
    "\n",
    "import itertools\n",
    "import requests\n",
    "from wordcloud import WordCloud\n",
    "\n",
    "from rich import inspect\n",
    "from rich.pretty import pprint\n",
    "from tqdm.notebook import tqdm\n",
    "\n",
    "from selenium import webdriver\n",
    "from selenium.webdriver.chrome.service import Service\n",
    "from selenium.webdriver.support.ui import WebDriverWait\n",
    "from selenium.webdriver.support import expected_conditions as EC\n",
    "from selenium.webdriver.common.by import By\n",
    "\n",
    "import matplotlib.pyplot as plt\n",
    "\n",
    "pd.set_option(\"display.max_columns\", None)\n",
    "pd.set_option(\"display.max_rows\", None)"
   ]
  },
  {
   "cell_type": "code",
   "execution_count": null,
   "metadata": {},
   "outputs": [],
   "source": [
    "recipes_path = \"../data/full_dataset.csv\"\n",
    "\n",
    "recipes_data = pd.read_csv(\n",
    "    recipes_path,\n",
    "    index_col=0,\n",
    "    usecols=[\"title\", \"link\", \"NER\"],\n",
    "    dtype={\n",
    "        \"title\": \"string[pyarrow]\",\n",
    "        \"link\": \"string[pyarrow]\",\n",
    "        \"NER\": \"string[pyarrow]\",\n",
    "    },\n",
    ")\n",
    "\n",
    "print(f\" data shape: {recipes_data.shape}\")\n",
    "print(recipes_data.memory_usage(deep=True))"
   ]
  },
  {
   "cell_type": "code",
   "execution_count": null,
   "metadata": {},
   "outputs": [],
   "source": [
    "recipes_data.sample()"
   ]
  },
  {
   "cell_type": "code",
   "execution_count": null,
   "metadata": {},
   "outputs": [],
   "source": [
    "recipes_data[\"website\"] = recipes_data.link.str.split(\"/\").str.get(0)\n",
    "\n",
    "recipes_data.sample(5)"
   ]
  },
  {
   "cell_type": "code",
   "execution_count": null,
   "metadata": {},
   "outputs": [],
   "source": [
    "recipes_data.website.value_counts()"
   ]
  },
  {
   "attachments": {},
   "cell_type": "markdown",
   "metadata": {},
   "source": [
    "After inspection of some websites, the following list of websites will be re-scraped for further features (including duration, nutrition facts and servings):\n",
    "\n",
    "- www.food.com\n",
    "- www.allrecipes.com\n",
    "- www.tasteofhome.com"
   ]
  },
  {
   "cell_type": "code",
   "execution_count": null,
   "metadata": {},
   "outputs": [],
   "source": [
    "preliminary_websites = [\n",
    "    \"www.food.com\",\n",
    "    \"www.allrecipes.com\",\n",
    "    \"www.tasteofhome.com\",\n",
    "]\n",
    "\n",
    "filtered_data = recipes_data.query(\n",
    "    f\" website == {preliminary_websites} \"\n",
    ").copy()\n",
    "\n",
    "filtered_data.NER = filtered_data.NER.apply(eval)\n",
    "\n",
    "filtered_data.shape"
   ]
  },
  {
   "cell_type": "code",
   "execution_count": null,
   "metadata": {},
   "outputs": [],
   "source": [
    "all_ingredients = filtered_data.NER.explode()\n",
    "\n",
    "ingredients_frequency = all_ingredients.value_counts().to_dict()"
   ]
  },
  {
   "cell_type": "code",
   "execution_count": null,
   "metadata": {},
   "outputs": [],
   "source": [
    "wordcloud = WordCloud(width=1000, height=500).generate_from_frequencies(\n",
    "    ingredients_frequency\n",
    ")\n",
    "plt.figure(figsize=(15, 8))\n",
    "plt.imshow(wordcloud, interpolation=\"bilinear\")\n",
    "plt.axis(\"off\")\n",
    "plt.show()"
   ]
  },
  {
   "cell_type": "code",
   "execution_count": null,
   "metadata": {},
   "outputs": [],
   "source": [
    "filtered_data.isnull().sum()"
   ]
  },
  {
   "cell_type": "code",
   "execution_count": null,
   "metadata": {},
   "outputs": [],
   "source": [
    "filtered_data.NER.iloc[0]"
   ]
  },
  {
   "cell_type": "code",
   "execution_count": null,
   "metadata": {},
   "outputs": [],
   "source": [
    "filtered_data[\"duration\"] = np.nan\n",
    "filtered_data[\"nutrition_facts\"] = np.nan\n",
    "filtered_data[\"servings\"] = np.nan"
   ]
  },
  {
   "cell_type": "code",
   "execution_count": null,
   "metadata": {},
   "outputs": [],
   "source": [
    "filtered_data.to_csv(\"ommak.csv\", index=False)"
   ]
  },
  {
   "attachments": {},
   "cell_type": "markdown",
   "metadata": {},
   "source": [
    "# Start of scraping:"
   ]
  },
  {
   "attachments": {},
   "cell_type": "markdown",
   "metadata": {},
   "source": [
    "## www.food.com"
   ]
  },
  {
   "cell_type": "code",
   "execution_count": 13,
   "metadata": {},
   "outputs": [],
   "source": [
    "import pandas as pd\n",
    "import numpy as np\n",
    "import re\n",
    "import time\n",
    "import itertools\n",
    "import requests\n",
    "from bs4 import BeautifulSoup\n",
    "from wordcloud import WordCloud\n",
    "\n",
    "from rich import inspect\n",
    "from tqdm.notebook import tqdm\n",
    "from pprint import pprint\n",
    "\n",
    "from selenium import webdriver\n",
    "from selenium.webdriver.chrome.service import Service\n",
    "from selenium.webdriver.support.ui import WebDriverWait\n",
    "from selenium.webdriver.support import expected_conditions as EC\n",
    "from selenium.webdriver.common.by import By\n",
    "from selenium.webdriver.common.keys import Keys\n",
    "from selenium.common.exceptions import WebDriverException\n",
    "from selenium.webdriver.common.action_chains import ActionChains\n",
    "\n",
    "from selenium_stealth import stealth\n",
    "\n",
    "\n",
    "import matplotlib.pyplot as plt\n",
    "\n",
    "pd.set_option(\"display.max_columns\", None)\n",
    "pd.set_option(\"display.max_rows\", None)"
   ]
  },
  {
   "cell_type": "code",
   "execution_count": 5,
   "metadata": {},
   "outputs": [
    {
     "data": {
      "text/plain": [
       "'www.allrecipes.com/recipe/17096/blue-cheese-dip-i/'"
      ]
     },
     "execution_count": 5,
     "metadata": {},
     "output_type": "execute_result"
    }
   ],
   "source": [
    "filtered_data = pd.read_csv(\n",
    "    \"/Users/man-top/my_github/FoodFlex/notebooks/ommak.csv\"\n",
    ")\n",
    "\n",
    "example_to_scrape = (\n",
    "    filtered_data.query(\" website == 'www.allrecipes.com' \")\n",
    "    .link.sample()\n",
    "    .iloc[0]\n",
    ")\n",
    "\n",
    "example_to_scrape"
   ]
  },
  {
   "cell_type": "code",
   "execution_count": 36,
   "metadata": {},
   "outputs": [
    {
     "name": "stderr",
     "output_type": "stream",
     "text": [
      "/var/folders/mg/yzrszbkn6rs6h28ffl15nmyr0000gn/T/ipykernel_1165/2840394872.py:7: DeprecationWarning: headless property is deprecated, instead use add_argument('--headless') or add_argument('--headless=new')\n",
      "  options.headless = False\n"
     ]
    },
    {
     "ename": "TypeError",
     "evalue": "'str' object is not callable",
     "output_type": "error",
     "traceback": [
      "\u001b[0;31m---------------------------------------------------------------------------\u001b[0m",
      "\u001b[0;31mTypeError\u001b[0m                                 Traceback (most recent call last)",
      "Cell \u001b[0;32mIn[36], line 16\u001b[0m\n\u001b[1;32m     13\u001b[0m time\u001b[39m.\u001b[39msleep(\u001b[39m4\u001b[39m)\n\u001b[1;32m     15\u001b[0m \u001b[39m# scrolling\u001b[39;00m\n\u001b[0;32m---> 16\u001b[0m body \u001b[39m=\u001b[39m driver\u001b[39m.\u001b[39mfind_element(by\u001b[39m=\u001b[39mBy\u001b[39m.\u001b[39;49mTAG_NAME(\u001b[39m'\u001b[39;49m\u001b[39mbody\u001b[39;49m\u001b[39m'\u001b[39;49m))\n\u001b[1;32m     17\u001b[0m body\u001b[39m.\u001b[39msend_keys(Keys\u001b[39m.\u001b[39mPAGE_DOWN)\n\u001b[1;32m     19\u001b[0m time\u001b[39m.\u001b[39msleep(\u001b[39m2\u001b[39m)\n",
      "\u001b[0;31mTypeError\u001b[0m: 'str' object is not callable"
     ]
    }
   ],
   "source": [
    "import time\n",
    "\n",
    "chrome_driver_path = (\n",
    "    \"/Users/man-top/Downloads/chromedriver_mac_arm64/chromedriver\"\n",
    ")\n",
    "\n",
    "\n",
    "service = Service(chrome_driver_path)\n",
    "options = webdriver.ChromeOptions()\n",
    "options.headless = False\n",
    "\n",
    "driver = webdriver.Chrome(service=service, options=options, keep_alive=True)\n",
    "\n",
    "driver.get(f\"https://{example_to_scrape}\")\n",
    "\n",
    "time.sleep(4)\n",
    "\n",
    "# scrolling\n",
    "body = driver.find_element(by=By.TAG_NAME(\"body\"))\n",
    "body.send_keys(Keys.PAGE_DOWN)\n",
    "\n",
    "time.sleep(2)\n",
    "\n",
    "\n",
    "button_url = WebDriverWait(driver, 30).until(\n",
    "    EC.element_to_be_clickable(\n",
    "        (By.CSS_SELECTOR, \"button.link.facts__nutrition.svelte-ovaflp\")\n",
    "    )\n",
    ")\n",
    "# button_url = WebDriverWait(driver, 20).until(lambda x: x.find_element(By.XPATH, \"//*[@id='recipe']/div[9]/button\"))\n",
    "\n",
    "# inspect(button_url)\n",
    "\n",
    "try:\n",
    "    button_url.click()\n",
    "    print(\"yel3an rabbak\")\n",
    "except WebDriverException:\n",
    "    print(\"Element is not clickable\")\n",
    "\n",
    "\n",
    "time.sleep(4)\n",
    "\n",
    "try:\n",
    "    nutrition_facts_url = WebDriverWait(driver, 30).until(\n",
    "        EC.visibility_of_element_located(\n",
    "            (By.XPATH, \"//*[@id='top']/div[3]/div[4]/div/div/div[2]\")\n",
    "        )\n",
    "    )\n",
    "except:\n",
    "    print(\"not found\")\n",
    "print()\n",
    "\n",
    "driver.quit()"
   ]
  },
  {
   "cell_type": "code",
   "execution_count": null,
   "metadata": {},
   "outputs": [],
   "source": [
    "inspect(button_url)"
   ]
  },
  {
   "cell_type": "code",
   "execution_count": 7,
   "metadata": {},
   "outputs": [],
   "source": [
    "def setup_web_driver(headless: bool):\n",
    "    chrome_driver_path = (\n",
    "        \"/Users/man-top/Downloads/chromedriver_mac_arm64/chromedriver\"\n",
    "    )\n",
    "\n",
    "    service = Service(chrome_driver_path)\n",
    "    options = webdriver.ChromeOptions()\n",
    "    if headless:\n",
    "        options.add_argument(\"--headless=new\")\n",
    "\n",
    "    driver = webdriver.Chrome(service=service, options=options, keep_alive=True)\n",
    "    return driver"
   ]
  },
  {
   "cell_type": "code",
   "execution_count": 29,
   "metadata": {},
   "outputs": [],
   "source": [
    "def scrape_nutrition_facts(driver, url):\n",
    "    driver.get(f\"https://{url}\")\n",
    "\n",
    "    time.sleep(np.random.randint(2, 4))\n",
    "\n",
    "    button_url = driver.find_element(\n",
    "        By.XPATH, \"//button[contains(text(), 'Nutrition information')]\"\n",
    "    )\n",
    "\n",
    "    time.sleep(np.random.randint(2, 5))\n",
    "\n",
    "    driver.execute_script(\"arguments[0].scrollIntoView();\", button_url)\n",
    "\n",
    "    expanded = button_url.get_attribute(\"aria-expanded\")\n",
    "\n",
    "    print(\"start: \", expanded)\n",
    "\n",
    "    count_failed_click = 0\n",
    "\n",
    "    while expanded == \"false\":\n",
    "        print(expanded)\n",
    "        if count_failed_click % 4 == 0:\n",
    "            print(\"failed 4 times in a row... Refreshing\")\n",
    "            time.sleep(np.random.randint(1, 2))\n",
    "            driver.refresh()\n",
    "\n",
    "        time.sleep(np.random.randint(1, 2))\n",
    "\n",
    "        button_url = driver.find_element(\n",
    "            By.XPATH, \"//button[contains(text(), 'Nutrition information')]\"\n",
    "        )\n",
    "\n",
    "        time.sleep(np.random.randint(2, 5))\n",
    "\n",
    "        button_url.click()\n",
    "        expanded = button_url.get_attribute(\"aria-expanded\")\n",
    "\n",
    "        count_failed_click += 1\n",
    "\n",
    "    time.sleep(1)\n",
    "\n",
    "    nutrition_facts_url = driver.find_element(\n",
    "        By.CSS_SELECTOR, \"div.recipe-nutrition.svelte-epeb0m\"\n",
    "    )\n",
    "    driver.close()\n",
    "    driver.quit()\n",
    "    return nutrition_facts_url.text"
   ]
  },
  {
   "cell_type": "code",
   "execution_count": 6,
   "metadata": {},
   "outputs": [
    {
     "name": "stdout",
     "output_type": "stream",
     "text": [
      "false\n",
      "false\n",
      "failed 4 times in a row... Refreshing\n"
     ]
    },
    {
     "ename": "NoSuchWindowException",
     "evalue": "Message: no such window: target window already closed\nfrom unknown error: web view not found\n  (Session info: chrome=114.0.5735.198)\nStacktrace:\n0   chromedriver                        0x0000000102e83f48 chromedriver + 4226888\n1   chromedriver                        0x0000000102e7c4f4 chromedriver + 4195572\n2   chromedriver                        0x0000000102ac0d68 chromedriver + 281960\n3   chromedriver                        0x0000000102a9aef8 chromedriver + 126712\n4   chromedriver                        0x0000000102b1fe88 chromedriver + 671368\n5   chromedriver                        0x0000000102b3245c chromedriver + 746588\n6   chromedriver                        0x0000000102aeff1c chromedriver + 474908\n7   chromedriver                        0x0000000102af0ef4 chromedriver + 478964\n8   chromedriver                        0x0000000102e4559c chromedriver + 3970460\n9   chromedriver                        0x0000000102e496f0 chromedriver + 3987184\n10  chromedriver                        0x0000000102e4f5b4 chromedriver + 4011444\n11  chromedriver                        0x0000000102e4a2fc chromedriver + 3990268\n12  chromedriver                        0x0000000102e221c0 chromedriver + 3826112\n13  chromedriver                        0x0000000102e66088 chromedriver + 4104328\n14  chromedriver                        0x0000000102e661e0 chromedriver + 4104672\n15  chromedriver                        0x0000000102e75f28 chromedriver + 4169512\n16  libsystem_pthread.dylib             0x000000019d5fffa8 _pthread_start + 148\n17  libsystem_pthread.dylib             0x000000019d5fada0 thread_start + 8\n",
     "output_type": "error",
     "traceback": [
      "\u001b[0;31m---------------------------------------------------------------------------\u001b[0m",
      "\u001b[0;31mNoSuchWindowException\u001b[0m                     Traceback (most recent call last)",
      "Cell \u001b[0;32mIn[6], line 62\u001b[0m\n\u001b[1;32m     58\u001b[0m button_url \u001b[39m=\u001b[39m driver\u001b[39m.\u001b[39mfind_element(By\u001b[39m.\u001b[39mXPATH, \u001b[39m\"\u001b[39m\u001b[39m//button[contains(text(), \u001b[39m\u001b[39m'\u001b[39m\u001b[39mNutrition information\u001b[39m\u001b[39m'\u001b[39m\u001b[39m)]\u001b[39m\u001b[39m\"\u001b[39m)\n\u001b[1;32m     60\u001b[0m time\u001b[39m.\u001b[39msleep(np\u001b[39m.\u001b[39mrandom\u001b[39m.\u001b[39mrandint(\u001b[39m2\u001b[39m, \u001b[39m5\u001b[39m))\n\u001b[0;32m---> 62\u001b[0m button_url\u001b[39m.\u001b[39;49mclick()\n\u001b[1;32m     63\u001b[0m expanded \u001b[39m=\u001b[39m button_url\u001b[39m.\u001b[39mget_attribute(\u001b[39m'\u001b[39m\u001b[39maria-expanded\u001b[39m\u001b[39m'\u001b[39m)\n\u001b[1;32m     65\u001b[0m count_failed_click \u001b[39m+\u001b[39m\u001b[39m=\u001b[39m \u001b[39m1\u001b[39m\n",
      "File \u001b[0;32m~/miniconda3/envs/foodflex/lib/python3.11/site-packages/selenium/webdriver/remote/webelement.py:94\u001b[0m, in \u001b[0;36mWebElement.click\u001b[0;34m(self)\u001b[0m\n\u001b[1;32m     92\u001b[0m \u001b[39mdef\u001b[39;00m \u001b[39mclick\u001b[39m(\u001b[39mself\u001b[39m) \u001b[39m-\u001b[39m\u001b[39m>\u001b[39m \u001b[39mNone\u001b[39;00m:\n\u001b[1;32m     93\u001b[0m \u001b[39m    \u001b[39m\u001b[39m\"\"\"Clicks the element.\"\"\"\u001b[39;00m\n\u001b[0;32m---> 94\u001b[0m     \u001b[39mself\u001b[39;49m\u001b[39m.\u001b[39;49m_execute(Command\u001b[39m.\u001b[39;49mCLICK_ELEMENT)\n",
      "File \u001b[0;32m~/miniconda3/envs/foodflex/lib/python3.11/site-packages/selenium/webdriver/remote/webelement.py:395\u001b[0m, in \u001b[0;36mWebElement._execute\u001b[0;34m(self, command, params)\u001b[0m\n\u001b[1;32m    393\u001b[0m     params \u001b[39m=\u001b[39m {}\n\u001b[1;32m    394\u001b[0m params[\u001b[39m\"\u001b[39m\u001b[39mid\u001b[39m\u001b[39m\"\u001b[39m] \u001b[39m=\u001b[39m \u001b[39mself\u001b[39m\u001b[39m.\u001b[39m_id\n\u001b[0;32m--> 395\u001b[0m \u001b[39mreturn\u001b[39;00m \u001b[39mself\u001b[39;49m\u001b[39m.\u001b[39;49m_parent\u001b[39m.\u001b[39;49mexecute(command, params)\n",
      "File \u001b[0;32m~/miniconda3/envs/foodflex/lib/python3.11/site-packages/selenium/webdriver/remote/webdriver.py:346\u001b[0m, in \u001b[0;36mWebDriver.execute\u001b[0;34m(self, driver_command, params)\u001b[0m\n\u001b[1;32m    344\u001b[0m response \u001b[39m=\u001b[39m \u001b[39mself\u001b[39m\u001b[39m.\u001b[39mcommand_executor\u001b[39m.\u001b[39mexecute(driver_command, params)\n\u001b[1;32m    345\u001b[0m \u001b[39mif\u001b[39;00m response:\n\u001b[0;32m--> 346\u001b[0m     \u001b[39mself\u001b[39;49m\u001b[39m.\u001b[39;49merror_handler\u001b[39m.\u001b[39;49mcheck_response(response)\n\u001b[1;32m    347\u001b[0m     response[\u001b[39m\"\u001b[39m\u001b[39mvalue\u001b[39m\u001b[39m\"\u001b[39m] \u001b[39m=\u001b[39m \u001b[39mself\u001b[39m\u001b[39m.\u001b[39m_unwrap_value(response\u001b[39m.\u001b[39mget(\u001b[39m\"\u001b[39m\u001b[39mvalue\u001b[39m\u001b[39m\"\u001b[39m, \u001b[39mNone\u001b[39;00m))\n\u001b[1;32m    348\u001b[0m     \u001b[39mreturn\u001b[39;00m response\n",
      "File \u001b[0;32m~/miniconda3/envs/foodflex/lib/python3.11/site-packages/selenium/webdriver/remote/errorhandler.py:245\u001b[0m, in \u001b[0;36mErrorHandler.check_response\u001b[0;34m(self, response)\u001b[0m\n\u001b[1;32m    243\u001b[0m         alert_text \u001b[39m=\u001b[39m value[\u001b[39m\"\u001b[39m\u001b[39malert\u001b[39m\u001b[39m\"\u001b[39m]\u001b[39m.\u001b[39mget(\u001b[39m\"\u001b[39m\u001b[39mtext\u001b[39m\u001b[39m\"\u001b[39m)\n\u001b[1;32m    244\u001b[0m     \u001b[39mraise\u001b[39;00m exception_class(message, screen, stacktrace, alert_text)  \u001b[39m# type: ignore[call-arg]  # mypy is not smart enough here\u001b[39;00m\n\u001b[0;32m--> 245\u001b[0m \u001b[39mraise\u001b[39;00m exception_class(message, screen, stacktrace)\n",
      "\u001b[0;31mNoSuchWindowException\u001b[0m: Message: no such window: target window already closed\nfrom unknown error: web view not found\n  (Session info: chrome=114.0.5735.198)\nStacktrace:\n0   chromedriver                        0x0000000102e83f48 chromedriver + 4226888\n1   chromedriver                        0x0000000102e7c4f4 chromedriver + 4195572\n2   chromedriver                        0x0000000102ac0d68 chromedriver + 281960\n3   chromedriver                        0x0000000102a9aef8 chromedriver + 126712\n4   chromedriver                        0x0000000102b1fe88 chromedriver + 671368\n5   chromedriver                        0x0000000102b3245c chromedriver + 746588\n6   chromedriver                        0x0000000102aeff1c chromedriver + 474908\n7   chromedriver                        0x0000000102af0ef4 chromedriver + 478964\n8   chromedriver                        0x0000000102e4559c chromedriver + 3970460\n9   chromedriver                        0x0000000102e496f0 chromedriver + 3987184\n10  chromedriver                        0x0000000102e4f5b4 chromedriver + 4011444\n11  chromedriver                        0x0000000102e4a2fc chromedriver + 3990268\n12  chromedriver                        0x0000000102e221c0 chromedriver + 3826112\n13  chromedriver                        0x0000000102e66088 chromedriver + 4104328\n14  chromedriver                        0x0000000102e661e0 chromedriver + 4104672\n15  chromedriver                        0x0000000102e75f28 chromedriver + 4169512\n16  libsystem_pthread.dylib             0x000000019d5fffa8 _pthread_start + 148\n17  libsystem_pthread.dylib             0x000000019d5fada0 thread_start + 8\n"
     ]
    }
   ],
   "source": [
    "import time\n",
    "\n",
    "chrome_driver_path = (\n",
    "    \"/Users/man-top/Downloads/chromedriver_mac_arm64/chromedriver\"\n",
    ")\n",
    "\n",
    "service = Service(chrome_driver_path)\n",
    "options = webdriver.ChromeOptions()\n",
    "\n",
    "options.add_argument(\"start-maximized\")\n",
    "\n",
    "\n",
    "# options.add_argument('--headless=new')\n",
    "\n",
    "driver = webdriver.Chrome(service=service, options=options, keep_alive=True)\n",
    "\n",
    "\n",
    "driver.get(f\"https://{example_to_scrape}\")\n",
    "\n",
    "time.sleep(np.random.randint(2, 5))\n",
    "\n",
    "driver.fullscreen_window()\n",
    "\n",
    "time.sleep(np.random.randint(2, 5))\n",
    "\n",
    "button_url = driver.find_element(\n",
    "    By.XPATH, \"//*[@id='mntl-nutrition-facts-label_1-0']/button/span[1]\"\n",
    ")\n",
    "\n",
    "time.sleep(np.random.randint(2, 5))\n",
    "\n",
    "driver.execute_script(\"arguments[0].scrollIntoView();\", button_url)\n",
    "\n",
    "# expanded = button_url.get_attribute('aria-expanded')\n",
    "\n",
    "# print(expanded)\n",
    "\n",
    "count_failed_click = 0\n",
    "\n",
    "while expanded == \"false\":\n",
    "    print(expanded)\n",
    "    if count_failed_click % 4 == 0:\n",
    "        print(\"failed 4 times in a row... Refreshing\")\n",
    "        time.sleep(np.random.randint(1, 2))\n",
    "        driver.refresh()\n",
    "\n",
    "    time.sleep(np.random.randint(1, 2))\n",
    "\n",
    "    button_url = driver.find_element(\n",
    "        By.XPATH, \"//button[contains(text(), 'Nutrition information')]\"\n",
    "    )\n",
    "\n",
    "    time.sleep(np.random.randint(2, 5))\n",
    "\n",
    "    button_url.click()\n",
    "    expanded = button_url.get_attribute(\"aria-expanded\")\n",
    "\n",
    "    count_failed_click += 1\n",
    "\n",
    "\n",
    "time.sleep(1)\n",
    "\n",
    "nutrition_facts_url = driver.find_element(\n",
    "    By.CSS_SELECTOR, \"div.recipe-nutrition.svelte-epeb0m\"\n",
    ")\n",
    "\n",
    "print(nutrition_facts_url.text)\n",
    "\n",
    "\n",
    "driver.close()\n",
    "driver.quit()"
   ]
  },
  {
   "cell_type": "code",
   "execution_count": 8,
   "metadata": {},
   "outputs": [
    {
     "ename": "NameError",
     "evalue": "name 'scrape_nutrition_facts' is not defined",
     "output_type": "error",
     "traceback": [
      "\u001b[0;31m---------------------------------------------------------------------------\u001b[0m",
      "\u001b[0;31mNameError\u001b[0m                                 Traceback (most recent call last)",
      "Cell \u001b[0;32mIn[8], line 3\u001b[0m\n\u001b[1;32m      1\u001b[0m driver \u001b[39m=\u001b[39m setup_web_driver(headless\u001b[39m=\u001b[39m\u001b[39mFalse\u001b[39;00m)\n\u001b[0;32m----> 3\u001b[0m scrape_nutrition_facts(driver\u001b[39m=\u001b[39mdriver, url\u001b[39m=\u001b[39mexample_to_scrape)\n",
      "\u001b[0;31mNameError\u001b[0m: name 'scrape_nutrition_facts' is not defined"
     ]
    }
   ],
   "source": [
    "driver = setup_web_driver(headless=False)\n",
    "\n",
    "scrape_nutrition_facts(driver=driver, url=example_to_scrape)"
   ]
  },
  {
   "cell_type": "code",
   "execution_count": 4,
   "metadata": {},
   "outputs": [],
   "source": [
    "def scrape_all_recipes_nutrition_facts(url):\n",
    "    print(f\"\\n {url}\")\n",
    "    driver = setup_web_driver(headless=True)\n",
    "\n",
    "    driver.get(f\"https://{url}\")\n",
    "\n",
    "    time.sleep(np.random.randint(1, 3))\n",
    "\n",
    "    try:\n",
    "        driver.find_element(By.ID, \"onetrust-reject-all-handler\").click()\n",
    "    except:\n",
    "        print(\"nop reject all detected!\")\n",
    "\n",
    "    time.sleep(np.random.randint(2, 5))\n",
    "\n",
    "    try:\n",
    "        button_url = driver.find_element(\n",
    "            By.XPATH, \"//*[@id='mntl-nutrition-facts-label_1-0']/button/span[1]\"\n",
    "        )\n",
    "\n",
    "        time.sleep(np.random.randint(2, 5))\n",
    "\n",
    "        driver.execute_script(\"arguments[0].scrollIntoView();\", button_url)\n",
    "\n",
    "        driver.execute_script(\"window.scrollBy(0,-100)\", \"\")\n",
    "\n",
    "        time.sleep(np.random.randint(1, 3))\n",
    "\n",
    "        button_url.click()\n",
    "\n",
    "        time.sleep(np.random.randint(2, 4))\n",
    "\n",
    "        nutrition_facts_url = driver.find_element(\n",
    "            By.XPATH, \"//*[@id='mntl-nutrition-facts-label_1-0']/div\"\n",
    "        )\n",
    "\n",
    "        return nutrition_facts_url.text\n",
    "    except:\n",
    "        print(\"this recipe is doomed!\")\n",
    "\n",
    "    driver.close()\n",
    "    driver.quit()\n",
    "    return np.nan"
   ]
  },
  {
   "cell_type": "code",
   "execution_count": 45,
   "metadata": {},
   "outputs": [
    {
     "name": "stdout",
     "output_type": "stream",
     "text": [
      "Nutrition Facts\n",
      "Servings Per Recipe 6\n",
      "Calories 492\n",
      "% Daily Value *\n",
      "Total Fat 39g 50%\n",
      "Saturated Fat 15g 74%\n",
      "Cholesterol 224mg 75%\n",
      "Sodium 123mg 5%\n",
      "Total Carbohydrate 1g 0%\n",
      "Dietary Fiber 0g 1%\n",
      "Total Sugars 0g\n",
      "Protein 32g\n",
      "Vitamin C 3mg 16%\n",
      "Calcium 14mg 1%\n",
      "Iron 4mg 24%\n",
      "Potassium 323mg 7%\n",
      "* Percent Daily Values are based on a 2,000 calorie diet. Your daily values may be higher or lower depending on your calorie needs.\n",
      "** Nutrient information is not available for all ingredients. Amount is based on available nutrient data.\n",
      "(-) Information is not currently available for this nutrient. If you are following a medically restrictive diet, please consult your doctor or registered dietitian before preparing this recipe for personal consumption.\n",
      "Powered by the ESHA Research Database © 2018, ESHA Research, Inc. All Rights Reserved\n"
     ]
    }
   ],
   "source": [
    "import time\n",
    "\n",
    "chrome_driver_path = (\n",
    "    \"/Users/man-top/Downloads/chromedriver_mac_arm64/chromedriver\"\n",
    ")\n",
    "\n",
    "service = Service(chrome_driver_path)\n",
    "options = webdriver.ChromeOptions()\n",
    "\n",
    "# options.add_argument('--headless=new')\n",
    "\n",
    "driver = webdriver.Chrome(service=service, options=options, keep_alive=True)\n",
    "\n",
    "\n",
    "driver.get(f\"https://{example_to_scrape}\")\n",
    "\n",
    "time.sleep(np.random.randint(1, 3))\n",
    "\n",
    "\n",
    "reject_all = driver.find_element(By.ID, \"onetrust-reject-all-handler\")\n",
    "reject_all.click()\n",
    "\n",
    "time.sleep(np.random.randint(2, 5))\n",
    "\n",
    "button_url = driver.find_element(\n",
    "    By.XPATH, \"//*[@id='mntl-nutrition-facts-label_1-0']/button/span[1]\"\n",
    ")\n",
    "\n",
    "time.sleep(np.random.randint(2, 5))\n",
    "\n",
    "driver.execute_script(\"arguments[0].scrollIntoView();\", button_url)\n",
    "\n",
    "driver.execute_script(\"window.scrollBy(0,-100)\", \"\")\n",
    "\n",
    "time.sleep(np.random.randint(1, 3))\n",
    "\n",
    "button_url.click()\n",
    "\n",
    "time.sleep(np.random.randint(2, 4))\n",
    "\n",
    "nutrition_facts_url = driver.find_element(\n",
    "    By.XPATH, \"//*[@id='mntl-nutrition-facts-label_1-0']/div\"\n",
    ")\n",
    "\n",
    "print(nutrition_facts_url.text)\n",
    "\n",
    "driver.close()\n",
    "driver.quit()"
   ]
  },
  {
   "cell_type": "code",
   "execution_count": 71,
   "metadata": {},
   "outputs": [
    {
     "name": "stdout",
     "output_type": "stream",
     "text": [
      "\n",
      " www.allrecipes.com/recipe/20770/quite-a-peachy-pour/\n",
      "this recipe is doomed!\n"
     ]
    },
    {
     "data": {
      "text/plain": [
       "nan"
      ]
     },
     "execution_count": 71,
     "metadata": {},
     "output_type": "execute_result"
    }
   ],
   "source": [
    "scrape_all_recipes_nutrition_facts(\n",
    "    url=\"www.allrecipes.com/recipe/20770/quite-a-peachy-pour/\"\n",
    ")"
   ]
  },
  {
   "cell_type": "code",
   "execution_count": 9,
   "metadata": {},
   "outputs": [
    {
     "name": "stdout",
     "output_type": "stream",
     "text": [
      "\n",
      " www.allrecipes.com/recipe/241895/deconstructed-screwdriver-the-raw-egg/\n"
     ]
    },
    {
     "ename": "NameError",
     "evalue": "name 'time' is not defined",
     "output_type": "error",
     "traceback": [
      "\u001b[0;31m---------------------------------------------------------------------------\u001b[0m",
      "\u001b[0;31mNameError\u001b[0m                                 Traceback (most recent call last)",
      "Cell \u001b[0;32mIn[9], line 5\u001b[0m\n\u001b[1;32m      3\u001b[0m nutrition_facts \u001b[39m=\u001b[39m []\n\u001b[1;32m      4\u001b[0m \u001b[39mfor\u001b[39;00m link \u001b[39min\u001b[39;00m all_recipes_source_df\u001b[39m.\u001b[39mlink\u001b[39m.\u001b[39mvalues:\n\u001b[0;32m----> 5\u001b[0m     nutrition_facts\u001b[39m.\u001b[39mappend(scrape_all_recipes_nutrition_facts(url\u001b[39m=\u001b[39;49mlink))\n",
      "Cell \u001b[0;32mIn[4], line 7\u001b[0m, in \u001b[0;36mscrape_all_recipes_nutrition_facts\u001b[0;34m(url)\u001b[0m\n\u001b[1;32m      3\u001b[0m driver \u001b[39m=\u001b[39m setup_web_driver(headless\u001b[39m=\u001b[39m\u001b[39mTrue\u001b[39;00m)\n\u001b[1;32m      5\u001b[0m driver\u001b[39m.\u001b[39mget(\u001b[39mf\u001b[39m\u001b[39m\"\u001b[39m\u001b[39mhttps://\u001b[39m\u001b[39m{\u001b[39;00murl\u001b[39m}\u001b[39;00m\u001b[39m\"\u001b[39m)\n\u001b[0;32m----> 7\u001b[0m time\u001b[39m.\u001b[39msleep(np\u001b[39m.\u001b[39mrandom\u001b[39m.\u001b[39mrandint(\u001b[39m1\u001b[39m, \u001b[39m3\u001b[39m))\n\u001b[1;32m      9\u001b[0m \u001b[39mtry\u001b[39;00m:\n\u001b[1;32m     10\u001b[0m     driver\u001b[39m.\u001b[39mfind_element(By\u001b[39m.\u001b[39mID, \u001b[39m\"\u001b[39m\u001b[39monetrust-reject-all-handler\u001b[39m\u001b[39m\"\u001b[39m)\u001b[39m.\u001b[39mclick()\n",
      "\u001b[0;31mNameError\u001b[0m: name 'time' is not defined"
     ]
    }
   ],
   "source": [
    "all_recipes_source_df = filtered_data.query(\" website == 'www.allrecipes.com' \")\n",
    "\n",
    "nutrition_facts = []\n",
    "for link in all_recipes_source_df.link.values:\n",
    "    nutrition_facts.append(scrape_all_recipes_nutrition_facts(url=link))"
   ]
  },
  {
   "cell_type": "code",
   "execution_count": 66,
   "metadata": {},
   "outputs": [
    {
     "data": {
      "text/plain": [
       "(61398, 6)"
      ]
     },
     "execution_count": 66,
     "metadata": {},
     "output_type": "execute_result"
    }
   ],
   "source": [
    "all_recipes_source_df.shape"
   ]
  },
  {
   "cell_type": "code",
   "execution_count": 76,
   "metadata": {},
   "outputs": [
    {
     "data": {
      "text/plain": [
       "3779"
      ]
     },
     "execution_count": 76,
     "metadata": {},
     "output_type": "execute_result"
    }
   ],
   "source": [
    "len(nutrition_facts)"
   ]
  },
  {
   "cell_type": "code",
   "execution_count": 78,
   "metadata": {},
   "outputs": [],
   "source": [
    "nutrition_facts_series = pd.Series(\n",
    "    data=nutrition_facts,\n",
    "    index=all_recipes_source_df.index[: len(nutrition_facts)],\n",
    ")\n",
    "nutrition_facts_series.name = \"Nutrition_facts_unstructured\"\n",
    "all_recipes_source_df = all_recipes_source_df.join(nutrition_facts_series)\n",
    "all_recipes_source_df.to_csv(\"all_recipes_data_w_nutrition_facts.csv\")"
   ]
  },
  {
   "cell_type": "code",
   "execution_count": 79,
   "metadata": {},
   "outputs": [
    {
     "data": {
      "text/html": [
       "<div>\n",
       "<style scoped>\n",
       "    .dataframe tbody tr th:only-of-type {\n",
       "        vertical-align: middle;\n",
       "    }\n",
       "\n",
       "    .dataframe tbody tr th {\n",
       "        vertical-align: top;\n",
       "    }\n",
       "\n",
       "    .dataframe thead th {\n",
       "        text-align: right;\n",
       "    }\n",
       "</style>\n",
       "<table border=\"1\" class=\"dataframe\">\n",
       "  <thead>\n",
       "    <tr style=\"text-align: right;\">\n",
       "      <th></th>\n",
       "      <th>link</th>\n",
       "      <th>NER</th>\n",
       "      <th>website</th>\n",
       "      <th>duration</th>\n",
       "      <th>nutrition_facts</th>\n",
       "      <th>servings</th>\n",
       "      <th>Nutrition_facts_unstructured</th>\n",
       "    </tr>\n",
       "  </thead>\n",
       "  <tbody>\n",
       "    <tr>\n",
       "      <th>0</th>\n",
       "      <td>www.allrecipes.com/recipe/241895/deconstructed...</td>\n",
       "      <td>['orange juice', 'jiggers vodka']</td>\n",
       "      <td>www.allrecipes.com</td>\n",
       "      <td>NaN</td>\n",
       "      <td>NaN</td>\n",
       "      <td>NaN</td>\n",
       "      <td>Nutrition Facts\\nServings Per Recipe 1\\nCalori...</td>\n",
       "    </tr>\n",
       "    <tr>\n",
       "      <th>1</th>\n",
       "      <td>www.allrecipes.com/recipe/20808/kettle-corn/</td>\n",
       "      <td>['vegetable oil', 'white sugar', 'popcorn kern...</td>\n",
       "      <td>www.allrecipes.com</td>\n",
       "      <td>NaN</td>\n",
       "      <td>NaN</td>\n",
       "      <td>NaN</td>\n",
       "      <td>Nutrition Facts\\nServings Per Recipe 5\\nCalori...</td>\n",
       "    </tr>\n",
       "    <tr>\n",
       "      <th>2</th>\n",
       "      <td>www.allrecipes.com/recipe/238733/pops-fabulous...</td>\n",
       "      <td>['eggplants', 'green bell peppers', 'red bell ...</td>\n",
       "      <td>www.allrecipes.com</td>\n",
       "      <td>NaN</td>\n",
       "      <td>NaN</td>\n",
       "      <td>NaN</td>\n",
       "      <td>Nutrition Facts\\nServings Per Recipe 10\\nCalor...</td>\n",
       "    </tr>\n",
       "    <tr>\n",
       "      <th>3</th>\n",
       "      <td>www.allrecipes.com/recipe/241254/chipotle-mang...</td>\n",
       "      <td>['avocados', 'tomatoes', 'mango', 'cilantro', ...</td>\n",
       "      <td>www.allrecipes.com</td>\n",
       "      <td>NaN</td>\n",
       "      <td>NaN</td>\n",
       "      <td>NaN</td>\n",
       "      <td>Nutrition Facts\\nServings Per Recipe 20\\nCalor...</td>\n",
       "    </tr>\n",
       "    <tr>\n",
       "      <th>4</th>\n",
       "      <td>www.allrecipes.com/recipe/261696/basic-homemad...</td>\n",
       "      <td>['milk', 'heavy whipping cream', 'white vinega...</td>\n",
       "      <td>www.allrecipes.com</td>\n",
       "      <td>NaN</td>\n",
       "      <td>NaN</td>\n",
       "      <td>NaN</td>\n",
       "      <td>Nutrition Facts\\nServings Per Recipe 4\\nCalori...</td>\n",
       "    </tr>\n",
       "  </tbody>\n",
       "</table>\n",
       "</div>"
      ],
      "text/plain": [
       "                                                link  \\\n",
       "0  www.allrecipes.com/recipe/241895/deconstructed...   \n",
       "1       www.allrecipes.com/recipe/20808/kettle-corn/   \n",
       "2  www.allrecipes.com/recipe/238733/pops-fabulous...   \n",
       "3  www.allrecipes.com/recipe/241254/chipotle-mang...   \n",
       "4  www.allrecipes.com/recipe/261696/basic-homemad...   \n",
       "\n",
       "                                                 NER             website  \\\n",
       "0                  ['orange juice', 'jiggers vodka']  www.allrecipes.com   \n",
       "1  ['vegetable oil', 'white sugar', 'popcorn kern...  www.allrecipes.com   \n",
       "2  ['eggplants', 'green bell peppers', 'red bell ...  www.allrecipes.com   \n",
       "3  ['avocados', 'tomatoes', 'mango', 'cilantro', ...  www.allrecipes.com   \n",
       "4  ['milk', 'heavy whipping cream', 'white vinega...  www.allrecipes.com   \n",
       "\n",
       "   duration  nutrition_facts  servings  \\\n",
       "0       NaN              NaN       NaN   \n",
       "1       NaN              NaN       NaN   \n",
       "2       NaN              NaN       NaN   \n",
       "3       NaN              NaN       NaN   \n",
       "4       NaN              NaN       NaN   \n",
       "\n",
       "                        Nutrition_facts_unstructured  \n",
       "0  Nutrition Facts\\nServings Per Recipe 1\\nCalori...  \n",
       "1  Nutrition Facts\\nServings Per Recipe 5\\nCalori...  \n",
       "2  Nutrition Facts\\nServings Per Recipe 10\\nCalor...  \n",
       "3  Nutrition Facts\\nServings Per Recipe 20\\nCalor...  \n",
       "4  Nutrition Facts\\nServings Per Recipe 4\\nCalori...  "
      ]
     },
     "execution_count": 79,
     "metadata": {},
     "output_type": "execute_result"
    }
   ],
   "source": [
    "all_recipes_source_df.head()"
   ]
  },
  {
   "cell_type": "code",
   "execution_count": 81,
   "metadata": {},
   "outputs": [
    {
     "data": {
      "text/plain": [
       "0.9400794814163328"
      ]
     },
     "execution_count": 81,
     "metadata": {},
     "output_type": "execute_result"
    }
   ],
   "source": [
    "all_recipes_source_df.Nutrition_facts_unstructured.isnull().sum() / len(\n",
    "    all_recipes_source_df\n",
    ")"
   ]
  },
  {
   "cell_type": "code",
   "execution_count": 82,
   "metadata": {},
   "outputs": [
    {
     "data": {
      "text/plain": [
       "0.06154923613147008"
      ]
     },
     "execution_count": 82,
     "metadata": {},
     "output_type": "execute_result"
    }
   ],
   "source": [
    "len(nutrition_facts_series) / len(all_recipes_source_df)"
   ]
  },
  {
   "cell_type": "code",
   "execution_count": 84,
   "metadata": {},
   "outputs": [
    {
     "data": {
      "text/plain": [
       "(61398, 3779)"
      ]
     },
     "execution_count": 84,
     "metadata": {},
     "output_type": "execute_result"
    }
   ],
   "source": [
    "len(all_recipes_source_df), len(nutrition_facts_series)"
   ]
  },
  {
   "cell_type": "markdown",
   "metadata": {},
   "source": [
    "# continuation of scraping:"
   ]
  },
  {
   "cell_type": "code",
   "execution_count": 12,
   "metadata": {},
   "outputs": [],
   "source": [
    "import pandas as pd\n",
    "import numpy as np\n",
    "import re\n",
    "import time\n",
    "import itertools\n",
    "import requests\n",
    "from bs4 import BeautifulSoup\n",
    "from wordcloud import WordCloud\n",
    "\n",
    "from rich import inspect\n",
    "from tqdm import tqdm\n",
    "from pprint import pprint\n",
    "\n",
    "from selenium import webdriver\n",
    "from selenium.webdriver.chrome.service import Service\n",
    "from selenium.webdriver.support.ui import WebDriverWait\n",
    "from selenium.webdriver.support import expected_conditions as EC\n",
    "from selenium.webdriver.common.by import By\n",
    "from selenium.webdriver.common.keys import Keys\n",
    "from selenium.common.exceptions import WebDriverException\n",
    "from selenium.webdriver.common.action_chains import ActionChains\n",
    "\n",
    "from selenium_stealth import stealth\n",
    "\n",
    "\n",
    "import matplotlib.pyplot as plt\n",
    "\n",
    "pd.set_option(\"display.max_columns\", None)\n",
    "pd.set_option(\"display.max_rows\", None)"
   ]
  },
  {
   "cell_type": "code",
   "execution_count": 13,
   "metadata": {},
   "outputs": [],
   "source": [
    "def scrape_all_recipes_nutrition_facts(url):\n",
    "    print(f\"\\n {url}\")\n",
    "    driver = setup_web_driver(headless=True)\n",
    "\n",
    "    driver.get(f\"https://{url}\")\n",
    "\n",
    "    time.sleep(np.random.randint(1, 3))\n",
    "\n",
    "    try:\n",
    "        driver.find_element(By.ID, \"onetrust-reject-all-handler\").click()\n",
    "    except:\n",
    "        print(\"nop reject all detected!\")\n",
    "\n",
    "    time.sleep(np.random.randint(2, 3))\n",
    "\n",
    "    try:\n",
    "        button_url = driver.find_element(\n",
    "            By.XPATH, \"//*[@id='mntl-nutrition-facts-label_1-0']/button/span[1]\"\n",
    "        )\n",
    "\n",
    "        time.sleep(np.random.randint(2, 3))\n",
    "\n",
    "        driver.execute_script(\"arguments[0].scrollIntoView();\", button_url)\n",
    "\n",
    "        driver.execute_script(\"window.scrollBy(0,-100)\", \"\")\n",
    "\n",
    "        time.sleep(np.random.randint(1, 2))\n",
    "\n",
    "        button_url.click()\n",
    "\n",
    "        time.sleep(np.random.randint(1, 2))\n",
    "\n",
    "        nutrition_facts_url = driver.find_element(\n",
    "            By.XPATH, \"//*[@id='mntl-nutrition-facts-label_1-0']/div\"\n",
    "        )\n",
    "\n",
    "        return nutrition_facts_url.text\n",
    "    except:\n",
    "        print(\"this recipe is doomed!\")\n",
    "\n",
    "    driver.close()\n",
    "    driver.quit()\n",
    "    return np.nan\n",
    "\n",
    "def setup_web_driver(headless: bool):\n",
    "    chrome_driver_path = (\n",
    "        \"/Users/man-top/Downloads/chromedriver_mac_arm64/chromedriver\"\n",
    "    )\n",
    "\n",
    "    service = Service(chrome_driver_path)\n",
    "    options = webdriver.ChromeOptions()\n",
    "    if headless:\n",
    "        options.add_argument(\"--headless=new\")\n",
    "\n",
    "    driver = webdriver.Chrome(service=service, options=options, keep_alive=True)\n",
    "    return driver"
   ]
  },
  {
   "cell_type": "code",
   "execution_count": 17,
   "metadata": {},
   "outputs": [
    {
     "name": "stderr",
     "output_type": "stream",
     "text": [
      "  0%|          | 0/56854 [00:00<?, ?it/s]"
     ]
    },
    {
     "name": "stdout",
     "output_type": "stream",
     "text": [
      "\n",
      " www.allrecipes.com/recipe/230987/crisp-apples-with-citrus-dressing/\n"
     ]
    },
    {
     "name": "stderr",
     "output_type": "stream",
     "text": [
      "  0%|          | 1/56854 [00:10<161:45:58, 10.24s/it]"
     ]
    },
    {
     "name": "stdout",
     "output_type": "stream",
     "text": [
      "\n",
      " www.allrecipes.com/recipe/16016/lentil-soup/\n"
     ]
    },
    {
     "name": "stderr",
     "output_type": "stream",
     "text": [
      "  0%|          | 2/56854 [00:15<111:49:07,  7.08s/it]"
     ]
    },
    {
     "name": "stdout",
     "output_type": "stream",
     "text": [
      "this recipe is doomed!\n",
      "\n",
      " www.allrecipes.com/recipe/18782/lamb-casserole/\n"
     ]
    },
    {
     "name": "stderr",
     "output_type": "stream",
     "text": [
      "  0%|          | 3/56854 [00:24<130:13:09,  8.25s/it]"
     ]
    },
    {
     "name": "stdout",
     "output_type": "stream",
     "text": [
      "\n",
      " www.allrecipes.com/recipe/260651/mexican-tres-leches-cake-pastel-de-3-leches/\n"
     ]
    },
    {
     "name": "stderr",
     "output_type": "stream",
     "text": [
      "  0%|          | 4/56854 [00:33<136:07:11,  8.62s/it]"
     ]
    },
    {
     "name": "stdout",
     "output_type": "stream",
     "text": [
      "\n",
      " www.allrecipes.com/recipe/69270/apricot-dessert/\n"
     ]
    },
    {
     "name": "stderr",
     "output_type": "stream",
     "text": [
      "  0%|          | 5/56854 [00:43<143:53:11,  9.11s/it]"
     ]
    },
    {
     "name": "stdout",
     "output_type": "stream",
     "text": [
      "\n",
      " www.allrecipes.com/recipe/150942/moo-goo-gai-pan-ii/\n"
     ]
    },
    {
     "name": "stderr",
     "output_type": "stream",
     "text": [
      "  0%|          | 6/56854 [00:52<143:34:13,  9.09s/it]"
     ]
    },
    {
     "name": "stdout",
     "output_type": "stream",
     "text": [
      "\n",
      " www.allrecipes.com/recipe/263428/circus-animal-cookies-with-icing/\n"
     ]
    },
    {
     "name": "stderr",
     "output_type": "stream",
     "text": [
      "  0%|          | 7/56854 [01:01<141:47:09,  8.98s/it]"
     ]
    },
    {
     "name": "stdout",
     "output_type": "stream",
     "text": [
      "\n",
      " www.allrecipes.com/recipe/11932/fettuccini-with-basil-and-brie/\n"
     ]
    },
    {
     "name": "stderr",
     "output_type": "stream",
     "text": [
      "  0%|          | 8/56854 [01:11<146:48:00,  9.30s/it]"
     ]
    },
    {
     "name": "stdout",
     "output_type": "stream",
     "text": [
      "\n",
      " www.allrecipes.com/recipe/169409/triple-fruit-drink/\n"
     ]
    },
    {
     "name": "stderr",
     "output_type": "stream",
     "text": [
      "  0%|          | 9/56854 [01:20<146:40:34,  9.29s/it]"
     ]
    },
    {
     "name": "stdout",
     "output_type": "stream",
     "text": [
      "\n",
      " www.allrecipes.com/recipe/60723/grand-margarita/\n"
     ]
    },
    {
     "name": "stderr",
     "output_type": "stream",
     "text": [
      "  0%|          | 10/56854 [01:25<125:20:11,  7.94s/it]"
     ]
    },
    {
     "name": "stdout",
     "output_type": "stream",
     "text": [
      "this recipe is doomed!\n",
      "\n",
      " www.allrecipes.com/recipe/234863/ranchero-sauce/\n"
     ]
    },
    {
     "name": "stderr",
     "output_type": "stream",
     "text": [
      "  0%|          | 11/56854 [01:35<131:25:13,  8.32s/it]"
     ]
    },
    {
     "name": "stdout",
     "output_type": "stream",
     "text": [
      "\n",
      " www.allrecipes.com/recipe/215354/melon-lime-cooler/\n"
     ]
    },
    {
     "name": "stderr",
     "output_type": "stream",
     "text": [
      "  0%|          | 12/56854 [01:44<135:24:56,  8.58s/it]"
     ]
    },
    {
     "name": "stdout",
     "output_type": "stream",
     "text": [
      "\n",
      " www.allrecipes.com/recipe/264842/earl-greyhound/\n"
     ]
    },
    {
     "name": "stderr",
     "output_type": "stream",
     "text": [
      "  0%|          | 13/56854 [01:53<136:53:35,  8.67s/it]"
     ]
    },
    {
     "name": "stdout",
     "output_type": "stream",
     "text": [
      "\n",
      " www.allrecipes.com/recipe/10844/apple-oatmeal-bars/\n"
     ]
    },
    {
     "name": "stderr",
     "output_type": "stream",
     "text": [
      "  0%|          | 14/56854 [02:02<138:41:19,  8.78s/it]"
     ]
    },
    {
     "name": "stdout",
     "output_type": "stream",
     "text": [
      "\n",
      " www.allrecipes.com/recipe/245974/grilled-steak-summer-vegetable-rice/\n"
     ]
    },
    {
     "name": "stderr",
     "output_type": "stream",
     "text": [
      "  0%|          | 15/56854 [02:12<144:22:57,  9.14s/it]"
     ]
    },
    {
     "name": "stdout",
     "output_type": "stream",
     "text": [
      "\n",
      " www.allrecipes.com/recipe/76175/cinnamon-bread-delight/\n"
     ]
    },
    {
     "name": "stderr",
     "output_type": "stream",
     "text": [
      "  0%|          | 16/56854 [02:21<147:27:35,  9.34s/it]"
     ]
    },
    {
     "name": "stdout",
     "output_type": "stream",
     "text": [
      "\n",
      " www.allrecipes.com/recipe/241592/rainbow-veggie-pancakes-with-cottage-cheese/\n"
     ]
    },
    {
     "name": "stderr",
     "output_type": "stream",
     "text": [
      "  0%|          | 17/56854 [02:30<146:03:20,  9.25s/it]"
     ]
    },
    {
     "name": "stdout",
     "output_type": "stream",
     "text": [
      "\n",
      " www.allrecipes.com/recipe/258043/chocolate-walnut-oatmeal/\n"
     ]
    },
    {
     "name": "stderr",
     "output_type": "stream",
     "text": [
      "  0%|          | 18/56854 [02:40<145:09:52,  9.19s/it]"
     ]
    },
    {
     "name": "stdout",
     "output_type": "stream",
     "text": [
      "\n",
      " www.allrecipes.com/recipe/268476/double-chocolate-and-peppermint-ice-cream-sandwich-cookies/\n"
     ]
    },
    {
     "name": "stderr",
     "output_type": "stream",
     "text": [
      "  0%|          | 19/56854 [02:50<148:52:13,  9.43s/it]"
     ]
    },
    {
     "name": "stdout",
     "output_type": "stream",
     "text": [
      "\n",
      " www.allrecipes.com/recipe/246398/ethans-hungry-mans-cast-iron-meatloaf/\n"
     ]
    },
    {
     "name": "stderr",
     "output_type": "stream",
     "text": [
      "  0%|          | 20/56854 [02:58<146:26:02,  9.28s/it]"
     ]
    },
    {
     "name": "stdout",
     "output_type": "stream",
     "text": [
      "\n",
      " www.allrecipes.com/recipe/162056/sweet-potato-and-hazelnut-mashed-potatoes/\n"
     ]
    },
    {
     "name": "stderr",
     "output_type": "stream",
     "text": [
      "  0%|          | 21/56854 [03:08<149:34:38,  9.47s/it]"
     ]
    },
    {
     "name": "stdout",
     "output_type": "stream",
     "text": [
      "\n",
      " www.allrecipes.com/recipe/244612/flat-iron-steak-marinade/\n"
     ]
    },
    {
     "name": "stderr",
     "output_type": "stream",
     "text": [
      "  0%|          | 22/56854 [03:17<147:21:41,  9.33s/it]"
     ]
    },
    {
     "name": "stdout",
     "output_type": "stream",
     "text": [
      "\n",
      " www.allrecipes.com/recipe/76174/oatmeal-cream-cheese-patties/\n"
     ]
    },
    {
     "name": "stderr",
     "output_type": "stream",
     "text": [
      "  0%|          | 23/56854 [03:26<144:48:27,  9.17s/it]"
     ]
    },
    {
     "name": "stdout",
     "output_type": "stream",
     "text": [
      "\n",
      " www.allrecipes.com/recipe/258341/grain-free-chicken-parm/\n"
     ]
    },
    {
     "name": "stderr",
     "output_type": "stream",
     "text": [
      "  0%|          | 24/56854 [03:36<149:47:13,  9.49s/it]"
     ]
    },
    {
     "name": "stdout",
     "output_type": "stream",
     "text": [
      "\n",
      " www.allrecipes.com/recipe/74097/georgia-peach-pie/\n"
     ]
    },
    {
     "name": "stderr",
     "output_type": "stream",
     "text": [
      "  0%|          | 25/56854 [03:45<147:20:10,  9.33s/it]"
     ]
    },
    {
     "name": "stdout",
     "output_type": "stream",
     "text": [
      "\n",
      " www.allrecipes.com/recipe/269381/chewy-sunflower-butter-cookies/\n"
     ]
    },
    {
     "name": "stderr",
     "output_type": "stream",
     "text": [
      "  0%|          | 26/56854 [03:55<147:36:44,  9.35s/it]"
     ]
    },
    {
     "name": "stdout",
     "output_type": "stream",
     "text": [
      "\n",
      " www.allrecipes.com/recipe/258008/barilla-gluten-free-elbows-pasta-salad-with-yellow-cherry-tomatoes-fresh-oregano-baby-mozzarella/\n"
     ]
    },
    {
     "name": "stderr",
     "output_type": "stream",
     "text": [
      "  0%|          | 27/56854 [04:05<153:09:55,  9.70s/it]"
     ]
    },
    {
     "name": "stdout",
     "output_type": "stream",
     "text": [
      "\n",
      " www.allrecipes.com/recipe/14694/cuban-pork-roast-i/\n"
     ]
    },
    {
     "name": "stderr",
     "output_type": "stream",
     "text": [
      "  0%|          | 28/56854 [04:14<150:04:01,  9.51s/it]"
     ]
    },
    {
     "name": "stdout",
     "output_type": "stream",
     "text": [
      "\n",
      " www.allrecipes.com/recipe/223356/french-veggie-loaf/\n"
     ]
    },
    {
     "name": "stderr",
     "output_type": "stream",
     "text": [
      "  0%|          | 29/56854 [04:25<154:06:01,  9.76s/it]"
     ]
    },
    {
     "name": "stdout",
     "output_type": "stream",
     "text": [
      "\n",
      " www.allrecipes.com/recipe/9816/anzac-biscuits-i/\n"
     ]
    },
    {
     "name": "stderr",
     "output_type": "stream",
     "text": [
      "  0%|          | 30/56854 [04:34<151:14:18,  9.58s/it]"
     ]
    },
    {
     "name": "stdout",
     "output_type": "stream",
     "text": [
      "\n",
      " www.allrecipes.com/recipe/238197/amish-peach-dumplings/\n"
     ]
    },
    {
     "name": "stderr",
     "output_type": "stream",
     "text": [
      "  0%|          | 31/56854 [04:43<149:13:10,  9.45s/it]"
     ]
    },
    {
     "name": "stdout",
     "output_type": "stream",
     "text": [
      "\n",
      " www.allrecipes.com/recipe/239928/greek-style-potatoes/\n"
     ]
    },
    {
     "name": "stderr",
     "output_type": "stream",
     "text": [
      "  0%|          | 32/56854 [04:53<152:09:01,  9.64s/it]"
     ]
    },
    {
     "name": "stdout",
     "output_type": "stream",
     "text": [
      "\n",
      " www.allrecipes.com/recipe/17799/trinidad-sweetbread/\n"
     ]
    },
    {
     "name": "stderr",
     "output_type": "stream",
     "text": [
      "  0%|          | 33/56854 [05:03<152:00:28,  9.63s/it]"
     ]
    },
    {
     "name": "stdout",
     "output_type": "stream",
     "text": [
      "\n",
      " www.allrecipes.com/recipe/213185/dees-sexy-spicy-shrimp-sausage-and-peppers/\n"
     ]
    },
    {
     "name": "stderr",
     "output_type": "stream",
     "text": [
      "  0%|          | 34/56854 [05:13<152:48:52,  9.68s/it]"
     ]
    },
    {
     "name": "stdout",
     "output_type": "stream",
     "text": [
      "\n",
      " www.allrecipes.com/recipe/259042/grilled-flat-iron-steak/\n"
     ]
    },
    {
     "name": "stderr",
     "output_type": "stream",
     "text": [
      "  0%|          | 35/56854 [05:21<148:48:21,  9.43s/it]"
     ]
    },
    {
     "name": "stdout",
     "output_type": "stream",
     "text": [
      "\n",
      " www.allrecipes.com/recipe/242065/white-russian-pudding-shot/\n"
     ]
    },
    {
     "name": "stderr",
     "output_type": "stream",
     "text": [
      "  0%|          | 36/56854 [05:31<151:15:02,  9.58s/it]"
     ]
    },
    {
     "name": "stdout",
     "output_type": "stream",
     "text": [
      "\n",
      " www.allrecipes.com/recipe/241373/melt-in-your-mouth-beef-cacciatore/\n"
     ]
    },
    {
     "name": "stderr",
     "output_type": "stream",
     "text": [
      "  0%|          | 37/56854 [05:41<152:11:42,  9.64s/it]"
     ]
    },
    {
     "name": "stdout",
     "output_type": "stream",
     "text": [
      "\n",
      " www.allrecipes.com/recipe/254487/holiday-turkey-brine/\n"
     ]
    },
    {
     "name": "stderr",
     "output_type": "stream",
     "text": [
      "  0%|          | 38/56854 [05:50<148:27:09,  9.41s/it]"
     ]
    },
    {
     "name": "stdout",
     "output_type": "stream",
     "text": [
      "\n",
      " www.allrecipes.com/recipe/91914/ts-sweet-potato-fries/\n"
     ]
    },
    {
     "name": "stderr",
     "output_type": "stream",
     "text": [
      "  0%|          | 39/56854 [06:00<152:07:43,  9.64s/it]"
     ]
    },
    {
     "name": "stdout",
     "output_type": "stream",
     "text": [
      "\n",
      " www.allrecipes.com/recipe/216238/quick-and-easy-sicilian-meatloaf/\n"
     ]
    },
    {
     "name": "stderr",
     "output_type": "stream",
     "text": [
      "  0%|          | 40/56854 [06:10<153:32:14,  9.73s/it]"
     ]
    },
    {
     "name": "stdout",
     "output_type": "stream",
     "text": [
      "\n",
      " www.allrecipes.com/recipe/85988/pea-and-avocado-salad/\n"
     ]
    },
    {
     "name": "stderr",
     "output_type": "stream",
     "text": [
      "  0%|          | 41/56854 [06:20<154:12:46,  9.77s/it]"
     ]
    },
    {
     "name": "stdout",
     "output_type": "stream",
     "text": [
      "\n",
      " www.allrecipes.com/recipe/11418/pumpkin-pie-bars/\n"
     ]
    },
    {
     "name": "stderr",
     "output_type": "stream",
     "text": [
      "  0%|          | 42/56854 [06:29<149:40:25,  9.48s/it]"
     ]
    },
    {
     "name": "stdout",
     "output_type": "stream",
     "text": [
      "\n",
      " www.allrecipes.com/recipe/239076/nutella-brownies/\n"
     ]
    },
    {
     "name": "stderr",
     "output_type": "stream",
     "text": [
      "  0%|          | 43/56854 [06:39<152:18:31,  9.65s/it]"
     ]
    },
    {
     "name": "stdout",
     "output_type": "stream",
     "text": [
      "\n",
      " www.allrecipes.com/recipe/231783/tao-hummus/\n"
     ]
    },
    {
     "name": "stderr",
     "output_type": "stream",
     "text": [
      "  0%|          | 44/56854 [06:48<150:26:38,  9.53s/it]"
     ]
    },
    {
     "name": "stdout",
     "output_type": "stream",
     "text": [
      "\n",
      " www.allrecipes.com/recipe/220283/halibut-olympia/\n"
     ]
    },
    {
     "name": "stderr",
     "output_type": "stream",
     "text": [
      "  0%|          | 45/56854 [06:59<155:36:48,  9.86s/it]"
     ]
    },
    {
     "name": "stdout",
     "output_type": "stream",
     "text": [
      "\n",
      " www.allrecipes.com/recipe/7899/banana-oatmeal-crumb-cake/\n"
     ]
    },
    {
     "name": "stderr",
     "output_type": "stream",
     "text": [
      "  0%|          | 46/56854 [07:07<150:10:16,  9.52s/it]"
     ]
    },
    {
     "name": "stdout",
     "output_type": "stream",
     "text": [
      "\n",
      " www.allrecipes.com/recipe/239768/sausage-stuffed-crescent-cornucopias/\n"
     ]
    },
    {
     "name": "stderr",
     "output_type": "stream",
     "text": [
      "  0%|          | 47/56854 [07:16<147:02:06,  9.32s/it]"
     ]
    },
    {
     "name": "stdout",
     "output_type": "stream",
     "text": [
      "\n",
      " www.allrecipes.com/recipe/9101/cranberry-cherry-pie/\n"
     ]
    },
    {
     "name": "stderr",
     "output_type": "stream",
     "text": [
      "  0%|          | 48/56854 [07:27<152:02:57,  9.64s/it]"
     ]
    },
    {
     "name": "stdout",
     "output_type": "stream",
     "text": [
      "\n",
      " www.allrecipes.com/recipe/165888/coconut-almond-mocha-macaroons/\n"
     ]
    },
    {
     "name": "stderr",
     "output_type": "stream",
     "text": [
      "  0%|          | 49/56854 [07:35<148:25:47,  9.41s/it]"
     ]
    },
    {
     "name": "stdout",
     "output_type": "stream",
     "text": [
      "\n",
      " www.allrecipes.com/recipe/245179/pumpkin-pie-cupcakes/\n"
     ]
    },
    {
     "name": "stderr",
     "output_type": "stream",
     "text": [
      "  0%|          | 50/56854 [07:40<127:32:53,  8.08s/it]"
     ]
    },
    {
     "name": "stdout",
     "output_type": "stream",
     "text": [
      "this recipe is doomed!\n",
      "\n",
      " www.allrecipes.com/recipe/25404/toads-in-the-hole-ii/\n"
     ]
    },
    {
     "name": "stderr",
     "output_type": "stream",
     "text": [
      "  0%|          | 51/56854 [07:50<135:54:59,  8.61s/it]"
     ]
    },
    {
     "name": "stdout",
     "output_type": "stream",
     "text": [
      "\n",
      " www.allrecipes.com/recipe/24406/swinks-chili/\n"
     ]
    },
    {
     "name": "stderr",
     "output_type": "stream",
     "text": [
      "  0%|          | 52/56854 [08:00<142:37:38,  9.04s/it]"
     ]
    },
    {
     "name": "stdout",
     "output_type": "stream",
     "text": [
      "\n",
      " www.allrecipes.com/recipe/231429/authentic-mexican-restaurant-style-salsa/\n"
     ]
    },
    {
     "name": "stderr",
     "output_type": "stream",
     "text": [
      "  0%|          | 53/56854 [08:10<146:43:05,  9.30s/it]"
     ]
    },
    {
     "name": "stdout",
     "output_type": "stream",
     "text": [
      "\n",
      " www.allrecipes.com/recipe/257715/blood-orange-and-pineapple-muffins/\n"
     ]
    },
    {
     "name": "stderr",
     "output_type": "stream",
     "text": [
      "  0%|          | 54/56854 [08:19<143:41:40,  9.11s/it]"
     ]
    },
    {
     "name": "stdout",
     "output_type": "stream",
     "text": [
      "\n",
      " www.allrecipes.com/recipe/46214/heart-chop-suey/\n"
     ]
    },
    {
     "name": "stderr",
     "output_type": "stream",
     "text": [
      "  0%|          | 55/56854 [08:29<146:37:38,  9.29s/it]"
     ]
    },
    {
     "name": "stdout",
     "output_type": "stream",
     "text": [
      "\n",
      " www.allrecipes.com/recipe/13321/shank-beef-soup/\n"
     ]
    },
    {
     "name": "stderr",
     "output_type": "stream",
     "text": [
      "  0%|          | 56/56854 [08:38<145:03:31,  9.19s/it]"
     ]
    },
    {
     "name": "stdout",
     "output_type": "stream",
     "text": [
      "\n",
      " www.allrecipes.com/recipe/92359/bat-cupcakes/\n"
     ]
    },
    {
     "name": "stderr",
     "output_type": "stream",
     "text": [
      "  0%|          | 57/56854 [08:48<148:27:32,  9.41s/it]"
     ]
    },
    {
     "name": "stdout",
     "output_type": "stream",
     "text": [
      "\n",
      " www.allrecipes.com/recipe/181298/japanese-fusion-guacamole/\n"
     ]
    },
    {
     "name": "stderr",
     "output_type": "stream",
     "text": [
      "  0%|          | 58/56854 [08:57<150:44:28,  9.55s/it]"
     ]
    },
    {
     "name": "stdout",
     "output_type": "stream",
     "text": [
      "\n",
      " www.allrecipes.com/recipe/217978/edens-nectar-bourbon-chicken/\n"
     ]
    },
    {
     "name": "stderr",
     "output_type": "stream",
     "text": [
      "  0%|          | 59/56854 [09:08<153:21:13,  9.72s/it]"
     ]
    },
    {
     "name": "stdout",
     "output_type": "stream",
     "text": [
      "\n",
      " www.allrecipes.com/recipe/260128/slow-cooker-buffalo-chicken/\n"
     ]
    },
    {
     "name": "stderr",
     "output_type": "stream",
     "text": [
      "  0%|          | 60/56854 [09:17<153:59:43,  9.76s/it]"
     ]
    },
    {
     "name": "stdout",
     "output_type": "stream",
     "text": [
      "\n",
      " www.allrecipes.com/recipe/222969/butterscotch-monkey-bread/\n"
     ]
    },
    {
     "name": "stderr",
     "output_type": "stream",
     "text": [
      "  0%|          | 61/56854 [09:27<154:28:24,  9.79s/it]"
     ]
    },
    {
     "name": "stdout",
     "output_type": "stream",
     "text": [
      "\n",
      " www.allrecipes.com/recipe/19210/oatmeal-raisin-cookies-vii/\n"
     ]
    },
    {
     "name": "stderr",
     "output_type": "stream",
     "text": [
      "  0%|          | 62/56854 [09:37<155:07:24,  9.83s/it]"
     ]
    },
    {
     "name": "stdout",
     "output_type": "stream",
     "text": [
      "\n",
      " www.allrecipes.com/recipe/143135/yoyos-bbq-beans/\n"
     ]
    },
    {
     "name": "stderr",
     "output_type": "stream",
     "text": [
      "  0%|          | 63/56854 [09:47<156:32:49,  9.92s/it]"
     ]
    },
    {
     "name": "stdout",
     "output_type": "stream",
     "text": [
      "\n",
      " www.allrecipes.com/recipe/265804/chickpea-curry-with-carrots/\n"
     ]
    },
    {
     "name": "stderr",
     "output_type": "stream",
     "text": [
      "  0%|          | 64/56854 [09:57<156:33:02,  9.92s/it]"
     ]
    },
    {
     "name": "stdout",
     "output_type": "stream",
     "text": [
      "\n",
      " www.allrecipes.com/recipe/145846/maple-walnut-quick-bread/\n"
     ]
    },
    {
     "name": "stderr",
     "output_type": "stream",
     "text": [
      "  0%|          | 65/56854 [10:07<156:47:10,  9.94s/it]"
     ]
    },
    {
     "name": "stdout",
     "output_type": "stream",
     "text": [
      "\n",
      " www.allrecipes.com/recipe/256708/pecan-pie-bites/\n"
     ]
    },
    {
     "name": "stderr",
     "output_type": "stream",
     "text": [
      "  0%|          | 66/56854 [10:16<152:19:54,  9.66s/it]"
     ]
    },
    {
     "name": "stdout",
     "output_type": "stream",
     "text": [
      "\n",
      " www.allrecipes.com/recipe/221112/baked-cauliflower-casserole/\n"
     ]
    },
    {
     "name": "stderr",
     "output_type": "stream",
     "text": [
      "  0%|          | 67/56854 [10:26<153:45:42,  9.75s/it]"
     ]
    },
    {
     "name": "stdout",
     "output_type": "stream",
     "text": [
      "\n",
      " www.allrecipes.com/recipe/246503/best-bulgoki-korean-barbeque-beef/\n"
     ]
    },
    {
     "name": "stderr",
     "output_type": "stream",
     "text": [
      "  0%|          | 68/56854 [10:36<153:34:18,  9.74s/it]"
     ]
    },
    {
     "name": "stdout",
     "output_type": "stream",
     "text": [
      "\n",
      " www.allrecipes.com/recipe/20116/peach-clouds/\n"
     ]
    },
    {
     "name": "stderr",
     "output_type": "stream",
     "text": [
      "  0%|          | 69/56854 [10:45<148:42:09,  9.43s/it]"
     ]
    },
    {
     "name": "stdout",
     "output_type": "stream",
     "text": [
      "\n",
      " www.allrecipes.com/recipe/230119/quinoa-stuffing/\n"
     ]
    },
    {
     "name": "stderr",
     "output_type": "stream",
     "text": [
      "  0%|          | 70/56854 [10:53<145:22:59,  9.22s/it]"
     ]
    },
    {
     "name": "stdout",
     "output_type": "stream",
     "text": [
      "\n",
      " www.allrecipes.com/recipe/229311/ultimate-baked-french-fries/\n"
     ]
    },
    {
     "name": "stderr",
     "output_type": "stream",
     "text": [
      "  0%|          | 71/56854 [11:02<144:16:18,  9.15s/it]"
     ]
    },
    {
     "name": "stdout",
     "output_type": "stream",
     "text": [
      "\n",
      " www.allrecipes.com/recipe/215069/tasteful-tahini-salad-dressing/\n"
     ]
    },
    {
     "name": "stderr",
     "output_type": "stream",
     "text": [
      "  0%|          | 72/56854 [11:11<142:57:06,  9.06s/it]"
     ]
    },
    {
     "name": "stdout",
     "output_type": "stream",
     "text": [
      "\n",
      " www.allrecipes.com/recipe/232097/turkey-tetrazzini-a-la-stouffers/\n"
     ]
    },
    {
     "name": "stderr",
     "output_type": "stream",
     "text": [
      "  0%|          | 73/56854 [11:21<147:01:08,  9.32s/it]"
     ]
    },
    {
     "name": "stdout",
     "output_type": "stream",
     "text": [
      "\n",
      " www.allrecipes.com/recipe/231074/philly-shrimp-cocktail-dip/\n"
     ]
    },
    {
     "name": "stderr",
     "output_type": "stream",
     "text": [
      "  0%|          | 74/56854 [11:31<149:13:18,  9.46s/it]"
     ]
    },
    {
     "name": "stdout",
     "output_type": "stream",
     "text": [
      "\n",
      " www.allrecipes.com/recipe/212662/turkey-breast-roulade-with-apple-and-raisin-stuffing/\n"
     ]
    },
    {
     "name": "stderr",
     "output_type": "stream",
     "text": [
      "  0%|          | 75/56854 [11:40<146:08:10,  9.27s/it]"
     ]
    },
    {
     "name": "stdout",
     "output_type": "stream",
     "text": [
      "\n",
      " www.allrecipes.com/recipe/256480/caramel-pancake-syrup/\n"
     ]
    },
    {
     "name": "stderr",
     "output_type": "stream",
     "text": [
      "  0%|          | 76/56854 [11:49<144:25:03,  9.16s/it]"
     ]
    },
    {
     "name": "stdout",
     "output_type": "stream",
     "text": [
      "\n",
      " www.allrecipes.com/recipe/235268/potato-latkes-with-caramelized-pears-goat-cheese-and-sherry-vinegar-drizzle/\n"
     ]
    },
    {
     "name": "stderr",
     "output_type": "stream",
     "text": [
      "  0%|          | 77/56854 [11:59<148:16:51,  9.40s/it]"
     ]
    },
    {
     "name": "stdout",
     "output_type": "stream",
     "text": [
      "\n",
      " www.allrecipes.com/recipe/244484/pork-caesar-salad-from-smithfield/\n"
     ]
    },
    {
     "name": "stderr",
     "output_type": "stream",
     "text": [
      "  0%|          | 78/56854 [12:09<152:23:34,  9.66s/it]"
     ]
    },
    {
     "name": "stdout",
     "output_type": "stream",
     "text": [
      "\n",
      " www.allrecipes.com/recipe/16153/carrot-pudding/\n"
     ]
    },
    {
     "name": "stderr",
     "output_type": "stream",
     "text": [
      "  0%|          | 79/56854 [12:18<148:30:07,  9.42s/it]"
     ]
    },
    {
     "name": "stdout",
     "output_type": "stream",
     "text": [
      "\n",
      " www.allrecipes.com/recipe/9793/anise-biscotti/\n"
     ]
    },
    {
     "name": "stderr",
     "output_type": "stream",
     "text": [
      "  0%|          | 80/56854 [12:27<146:02:21,  9.26s/it]"
     ]
    },
    {
     "name": "stdout",
     "output_type": "stream",
     "text": [
      "\n",
      " www.allrecipes.com/recipe/239838/coconut-cashew-cookies/\n"
     ]
    },
    {
     "name": "stderr",
     "output_type": "stream",
     "text": [
      "  0%|          | 81/56854 [12:36<148:12:13,  9.40s/it]"
     ]
    },
    {
     "name": "stdout",
     "output_type": "stream",
     "text": [
      "\n",
      " www.allrecipes.com/recipe/240841/sweet-potato-banana-smoothie/\n"
     ]
    },
    {
     "name": "stderr",
     "output_type": "stream",
     "text": [
      "  0%|          | 82/56854 [12:46<150:41:40,  9.56s/it]"
     ]
    },
    {
     "name": "stdout",
     "output_type": "stream",
     "text": [
      "\n",
      " www.allrecipes.com/recipe/264724/mixed-berries-smoothie/\n"
     ]
    },
    {
     "name": "stderr",
     "output_type": "stream",
     "text": [
      "  0%|          | 83/56854 [12:52<131:58:03,  8.37s/it]"
     ]
    },
    {
     "name": "stdout",
     "output_type": "stream",
     "text": [
      "this recipe is doomed!\n",
      "\n",
      " www.allrecipes.com/recipe/257415/edible-chocolate-chip-cookie-dough/\n"
     ]
    },
    {
     "name": "stderr",
     "output_type": "stream",
     "text": [
      "  0%|          | 84/56854 [13:01<133:57:25,  8.49s/it]"
     ]
    },
    {
     "name": "stdout",
     "output_type": "stream",
     "text": [
      "\n",
      " www.allrecipes.com/recipe/25429/star-fruit-steak/\n"
     ]
    },
    {
     "name": "stderr",
     "output_type": "stream",
     "text": [
      "  0%|          | 85/56854 [13:09<135:36:52,  8.60s/it]"
     ]
    },
    {
     "name": "stdout",
     "output_type": "stream",
     "text": [
      "\n",
      " www.allrecipes.com/recipe/255694/meatless-buffalo-dip/\n"
     ]
    },
    {
     "name": "stderr",
     "output_type": "stream",
     "text": [
      "  0%|          | 86/56854 [13:19<142:27:44,  9.03s/it]"
     ]
    },
    {
     "name": "stdout",
     "output_type": "stream",
     "text": [
      "\n",
      " www.allrecipes.com/recipe/219922/wendys-zucchini-bread/\n"
     ]
    },
    {
     "name": "stderr",
     "output_type": "stream",
     "text": [
      "  0%|          | 87/56854 [13:29<143:20:09,  9.09s/it]"
     ]
    },
    {
     "name": "stdout",
     "output_type": "stream",
     "text": [
      "\n",
      " www.allrecipes.com/recipe/237622/banana-crush/\n"
     ]
    }
   ],
   "source": [
    "\n",
    "all_recipes_source_df = pd.read_csv(\"all_recipes_data_w_nutrition_facts.csv\")\n",
    "try:\n",
    "    for link in tqdm(all_recipes_source_df.iloc[4543:].query(\n",
    "        \" Nutrition_facts_unstructured.isnull() \"\n",
    "    ).link.values):\n",
    "        all_recipes_source_df.loc[\n",
    "            all_recipes_source_df.query(f\" link == '{link}' \").index,\n",
    "            \"Nutrition_facts_unstructured\",\n",
    "        ] = scrape_all_recipes_nutrition_facts(url=link)\n",
    "except (KeyboardInterrupt, WebDriverException):\n",
    "    all_recipes_source_df.to_csv(\"all_recipes_data_w_nutrition_facts.csv\", index=False)\n"
   ]
  },
  {
   "cell_type": "code",
   "execution_count": null,
   "metadata": {},
   "outputs": [
    {
     "data": {
      "text/html": [
       "<div>\n",
       "<style scoped>\n",
       "    .dataframe tbody tr th:only-of-type {\n",
       "        vertical-align: middle;\n",
       "    }\n",
       "\n",
       "    .dataframe tbody tr th {\n",
       "        vertical-align: top;\n",
       "    }\n",
       "\n",
       "    .dataframe thead th {\n",
       "        text-align: right;\n",
       "    }\n",
       "</style>\n",
       "<table border=\"1\" class=\"dataframe\">\n",
       "  <thead>\n",
       "    <tr style=\"text-align: right;\">\n",
       "      <th></th>\n",
       "      <th>Unnamed: 0</th>\n",
       "      <th>link</th>\n",
       "      <th>NER</th>\n",
       "      <th>website</th>\n",
       "      <th>duration</th>\n",
       "      <th>nutrition_facts</th>\n",
       "      <th>servings</th>\n",
       "      <th>Nutrition_facts_unstructured</th>\n",
       "    </tr>\n",
       "  </thead>\n",
       "  <tbody>\n",
       "    <tr>\n",
       "      <th>4027</th>\n",
       "      <td>4027</td>\n",
       "      <td>www.allrecipes.com/recipe/255995/gourmet-choco...</td>\n",
       "      <td>['gelatin', 'boiling water', 'vodka', 'chocola...</td>\n",
       "      <td>www.allrecipes.com</td>\n",
       "      <td>NaN</td>\n",
       "      <td>NaN</td>\n",
       "      <td>NaN</td>\n",
       "      <td>Nutrition Facts\\nServings Per Recipe 12\\nCalor...</td>\n",
       "    </tr>\n",
       "  </tbody>\n",
       "</table>\n",
       "</div>"
      ],
      "text/plain": [
       "      Unnamed: 0                                               link  \\\n",
       "4027        4027  www.allrecipes.com/recipe/255995/gourmet-choco...   \n",
       "\n",
       "                                                    NER             website  \\\n",
       "4027  ['gelatin', 'boiling water', 'vodka', 'chocola...  www.allrecipes.com   \n",
       "\n",
       "      duration  nutrition_facts  servings  \\\n",
       "4027       NaN              NaN       NaN   \n",
       "\n",
       "                           Nutrition_facts_unstructured  \n",
       "4027  Nutrition Facts\\nServings Per Recipe 12\\nCalor...  "
      ]
     },
     "execution_count": 9,
     "metadata": {},
     "output_type": "execute_result"
    }
   ],
   "source": [
    "all_recipes_source_df.query(\"link=='www.allrecipes.com/recipe/255995/gourmet-chocolate-covered-cherry-jell-o-shots/'\")"
   ]
  },
  {
   "cell_type": "code",
   "execution_count": 16,
   "metadata": {},
   "outputs": [
    {
     "data": {
      "text/plain": [
       "4543"
      ]
     },
     "execution_count": 16,
     "metadata": {},
     "output_type": "execute_result"
    }
   ],
   "source": [
    "all_recipes_source_df.query(\"Nutrition_facts_unstructured.notnull()\").index[-1]"
   ]
  },
  {
   "cell_type": "code",
   "execution_count": null,
   "metadata": {},
   "outputs": [],
   "source": []
  }
 ],
 "metadata": {
  "kernelspec": {
   "display_name": "foodflex",
   "language": "python",
   "name": "python3"
  },
  "language_info": {
   "codemirror_mode": {
    "name": "ipython",
    "version": 3
   },
   "file_extension": ".py",
   "mimetype": "text/x-python",
   "name": "python",
   "nbconvert_exporter": "python",
   "pygments_lexer": "ipython3",
   "version": "3.11.4"
  },
  "orig_nbformat": 4
 },
 "nbformat": 4,
 "nbformat_minor": 2
}
