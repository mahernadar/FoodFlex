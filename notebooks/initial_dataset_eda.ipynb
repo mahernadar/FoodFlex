{
 "cells": [
  {
   "cell_type": "code",
   "execution_count": null,
   "metadata": {},
   "outputs": [],
   "source": [
    "import pandas as pd\n",
    "import numpy as np\n",
    "\n",
    "from wordcloud import WordCloud\n",
    "\n",
    "import matplotlib.pyplot as plt\n",
    "\n",
    "pd.set_option(\"display.max_columns\", None)\n",
    "pd.set_option(\"display.max_rows\", None)"
   ]
  },
  {
   "cell_type": "code",
   "execution_count": null,
   "metadata": {},
   "outputs": [],
   "source": [
    "recipes_path = \"../data/full_dataset.csv\"\n",
    "\n",
    "recipes_data = pd.read_csv(\n",
    "    recipes_path,\n",
    "    index_col=0,\n",
    "    usecols=[\"title\", \"link\", \"NER\"],\n",
    "    dtype={\n",
    "        \"title\": \"string[pyarrow]\",\n",
    "        \"link\": \"string[pyarrow]\",\n",
    "        \"NER\": \"string[pyarrow]\",\n",
    "    },\n",
    ")\n",
    "\n",
    "print(f\" data shape: {recipes_data.shape}\")\n",
    "print(recipes_data.memory_usage(deep=True))\n",
    "\n",
    "recipes_data.sample()"
   ]
  },
  {
   "cell_type": "code",
   "execution_count": null,
   "metadata": {},
   "outputs": [],
   "source": [
    "recipes_data.website.value_counts()"
   ]
  },
  {
   "cell_type": "markdown",
   "metadata": {},
   "source": [
    "After inspecting some websites and checking what extra information about recipes they may hold:\n",
    "\n",
    "'www.allrecipes.com' has ~60 K recipes, where I could get hold of more features related to nutrition facts."
   ]
  },
  {
   "cell_type": "code",
   "execution_count": null,
   "metadata": {},
   "outputs": [],
   "source": [
    "filtered_data = recipes_data.query(\n",
    "    f\" website == 'www.allrecipes.com' \"\n",
    ").copy()\n",
    "\n",
    "# remove the double quotes around the lists in teh NER column:\n",
    "filtered_data.NER = filtered_data.NER.apply(eval)\n",
    "\n",
    "filtered_data.shape"
   ]
  },
  {
   "cell_type": "code",
   "execution_count": null,
   "metadata": {},
   "outputs": [],
   "source": [
    "all_ingredients = filtered_data.NER.explode()\n",
    "\n",
    "ingredients_frequency = all_ingredients.value_counts().to_dict()"
   ]
  },
  {
   "cell_type": "code",
   "execution_count": null,
   "metadata": {},
   "outputs": [],
   "source": [
    "wordcloud = WordCloud(width=1000, height=500).generate_from_frequencies(\n",
    "    ingredients_frequency\n",
    ")\n",
    "plt.figure(figsize=(15, 8))\n",
    "plt.imshow(wordcloud, interpolation=\"bilinear\")\n",
    "plt.axis(\"off\")\n",
    "plt.show()"
   ]
  },
  {
   "cell_type": "code",
   "execution_count": null,
   "metadata": {},
   "outputs": [],
   "source": [
    "filtered_data[\"duration\"] = np.nan\n",
    "filtered_data[\"Nutrition_facts_unstructured\"] = np.nan\n",
    "filtered_data[\"servings\"] = np.nan\n",
    "\n",
    "\n",
    "filtered_data.to_csv(\"all_recipes_data.csv\", index=False)"
   ]
  }
 ],
 "metadata": {
  "kernelspec": {
   "display_name": "foodflex",
   "language": "python",
   "name": "python3"
  },
  "language_info": {
   "name": "python",
   "version": "3.11.4"
  },
  "orig_nbformat": 4
 },
 "nbformat": 4,
 "nbformat_minor": 2
}
