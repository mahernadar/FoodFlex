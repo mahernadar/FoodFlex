{
 "cells": [
  {
   "attachments": {},
   "cell_type": "markdown",
   "metadata": {},
   "source": [
    "## Scraping - www.allrecipes.com "
   ]
  },
  {
   "cell_type": "code",
   "execution_count": 22,
   "metadata": {},
   "outputs": [
    {
     "name": "stdout",
     "output_type": "stream",
     "text": [
      "The autoreload extension is already loaded. To reload it, use:\n",
      "  %reload_ext autoreload\n"
     ]
    }
   ],
   "source": [
    "%load_ext autoreload\n",
    "%autoreload 2"
   ]
  },
  {
   "cell_type": "code",
   "execution_count": 23,
   "metadata": {},
   "outputs": [],
   "source": [
    "import pandas as pd\n",
    "import numpy as np\n",
    "import time\n",
    "\n",
    "\n",
    "import sys\n",
    "\n",
    "sys.path.insert(0, \"../\")  # needed for using the utils file in the notebook.\n",
    "from utils import nutrition_facts_parser\n",
    "\n",
    "from rich import inspect\n",
    "from tqdm.notebook import tqdm\n",
    "from pprint import pprint\n",
    "\n",
    "from selenium import webdriver\n",
    "from selenium.webdriver.chrome.service import Service\n",
    "from selenium.webdriver.support.ui import WebDriverWait\n",
    "from selenium.webdriver.support import expected_conditions as EC\n",
    "from selenium.webdriver.common.by import By\n",
    "from selenium.webdriver.common.keys import Keys\n",
    "from selenium.common.exceptions import WebDriverException\n",
    "from selenium.webdriver.common.action_chains import ActionChains\n",
    "\n",
    "from selenium_stealth import stealth\n",
    "\n",
    "\n",
    "import matplotlib.pyplot as plt\n",
    "\n",
    "pd.set_option(\"display.max_columns\", None)\n",
    "pd.set_option(\"display.max_rows\", None)"
   ]
  },
  {
   "cell_type": "code",
   "execution_count": 4,
   "metadata": {},
   "outputs": [],
   "source": [
    "def scrape_all_recipes_nutrition_facts(url):\n",
    "    print(f\"\\n {url}\")\n",
    "    driver = setup_web_driver(headless=True)\n",
    "\n",
    "    driver.get(f\"https://{url}\")\n",
    "\n",
    "    time.sleep(np.random.randint(1, 3))\n",
    "\n",
    "    try:\n",
    "        driver.find_element(By.ID, \"onetrust-reject-all-handler\").click()\n",
    "    except:\n",
    "        print(\"nop reject all detected!\")\n",
    "\n",
    "    time.sleep(np.random.randint(2, 3))\n",
    "\n",
    "    try:\n",
    "        button_url = driver.find_element(\n",
    "            By.XPATH, \"//*[@id='mntl-nutrition-facts-label_1-0']/button/span[1]\"\n",
    "        )\n",
    "\n",
    "        time.sleep(np.random.randint(2, 3))\n",
    "\n",
    "        driver.execute_script(\"arguments[0].scrollIntoView();\", button_url)\n",
    "\n",
    "        driver.execute_script(\"window.scrollBy(0,-100)\", \"\")\n",
    "\n",
    "        time.sleep(np.random.randint(1, 2))\n",
    "\n",
    "        button_url.click()\n",
    "\n",
    "        time.sleep(np.random.randint(1, 2))\n",
    "\n",
    "        nutrition_facts_url = driver.find_element(\n",
    "            By.XPATH, \"//*[@id='mntl-nutrition-facts-label_1-0']/div\"\n",
    "        )\n",
    "\n",
    "        return nutrition_facts_url.text\n",
    "    except:\n",
    "        print(\"this recipe is doomed!\")\n",
    "\n",
    "    driver.close()\n",
    "    driver.quit()\n",
    "    return np.nan\n",
    "\n",
    "\n",
    "def setup_web_driver(headless: bool):\n",
    "    chrome_driver_path = (\n",
    "        \"/Users/man-top/Downloads/chromedriver_mac_arm64/chromedriver\"\n",
    "    )\n",
    "\n",
    "    service = Service(chrome_driver_path)\n",
    "    options = webdriver.ChromeOptions()\n",
    "    if headless:\n",
    "        options.add_argument(\"--headless=new\")\n",
    "\n",
    "    driver = webdriver.Chrome(service=service, options=options, keep_alive=True)\n",
    "    return driver"
   ]
  },
  {
   "cell_type": "markdown",
   "metadata": {},
   "source": [
    "In the following I had already started to do the scraping, but I updated the cell in order to automatically save the currently obtained data whenever I interrupt it manually or the internet connection gets cuts off:"
   ]
  },
  {
   "cell_type": "code",
   "execution_count": 5,
   "metadata": {},
   "outputs": [
    {
     "data": {
      "application/vnd.jupyter.widget-view+json": {
       "model_id": "49e51c7ac1d446968388e686d2776687",
       "version_major": 2,
       "version_minor": 0
      },
      "text/plain": [
       "  0%|          | 0/50255 [00:00<?, ?it/s]"
      ]
     },
     "metadata": {},
     "output_type": "display_data"
    },
    {
     "name": "stdout",
     "output_type": "stream",
     "text": [
      "\n",
      " www.allrecipes.com/recipe/32257/double-o-seven/\n"
     ]
    }
   ],
   "source": [
    "all_recipes_source_df = pd.read_csv(\n",
    "    \"all_recipes_data_w_nutrition_facts_instructured.csv\"\n",
    ")\n",
    "\n",
    "try:\n",
    "    for link in tqdm(\n",
    "        all_recipes_source_df.iloc[11070:]\n",
    "        .query(\" Nutrition_facts_unstructured.isnull() \")\n",
    "        .link.values\n",
    "    ):\n",
    "        all_recipes_source_df.loc[\n",
    "            all_recipes_source_df.query(f\" link == '{link}' \").index,\n",
    "            \"Nutrition_facts_unstructured\",\n",
    "        ] = scrape_all_recipes_nutrition_facts(url=link)\n",
    "except (KeyboardInterrupt, WebDriverException):\n",
    "    all_recipes_source_df.to_csv(\n",
    "        \"all_recipes_data_w_nutrition_facts_instructured.csv\", index=False\n",
    "    )"
   ]
  },
  {
   "cell_type": "code",
   "execution_count": 6,
   "metadata": {},
   "outputs": [
    {
     "data": {
      "text/html": [
       "<div>\n",
       "<style scoped>\n",
       "    .dataframe tbody tr th:only-of-type {\n",
       "        vertical-align: middle;\n",
       "    }\n",
       "\n",
       "    .dataframe tbody tr th {\n",
       "        vertical-align: top;\n",
       "    }\n",
       "\n",
       "    .dataframe thead th {\n",
       "        text-align: right;\n",
       "    }\n",
       "</style>\n",
       "<table border=\"1\" class=\"dataframe\">\n",
       "  <thead>\n",
       "    <tr style=\"text-align: right;\">\n",
       "      <th></th>\n",
       "      <th>link</th>\n",
       "      <th>NER</th>\n",
       "      <th>Nutrition_facts_unstructured</th>\n",
       "    </tr>\n",
       "  </thead>\n",
       "  <tbody>\n",
       "    <tr>\n",
       "      <th>5245</th>\n",
       "      <td>www.allrecipes.com/recipe/14121/chaat-dahi-bat...</td>\n",
       "      <td>['garbanzo beans', 'plain yogurt', 'ginger', '...</td>\n",
       "      <td>Nutrition Facts\\nServings Per Recipe 4\\nCalori...</td>\n",
       "    </tr>\n",
       "  </tbody>\n",
       "</table>\n",
       "</div>"
      ],
      "text/plain": [
       "                                                   link  \\\n",
       "5245  www.allrecipes.com/recipe/14121/chaat-dahi-bat...   \n",
       "\n",
       "                                                    NER  \\\n",
       "5245  ['garbanzo beans', 'plain yogurt', 'ginger', '...   \n",
       "\n",
       "                           Nutrition_facts_unstructured  \n",
       "5245  Nutrition Facts\\nServings Per Recipe 4\\nCalori...  "
      ]
     },
     "execution_count": 6,
     "metadata": {},
     "output_type": "execute_result"
    }
   ],
   "source": [
    "all_recipes_source_df.query(\n",
    "    \"link=='www.allrecipes.com/recipe/14121/chaat-dahi-batata-puri/'\"\n",
    ")"
   ]
  },
  {
   "cell_type": "code",
   "execution_count": 7,
   "metadata": {},
   "outputs": [
    {
     "data": {
      "text/plain": [
       "11144"
      ]
     },
     "execution_count": 7,
     "metadata": {},
     "output_type": "execute_result"
    }
   ],
   "source": [
    "all_recipes_source_df.query(\"Nutrition_facts_unstructured.notnull()\").index[-1]"
   ]
  },
  {
   "cell_type": "markdown",
   "metadata": {},
   "source": [
    "## adding the nutrition facts as new features:\n",
    "\n",
    "We need to find the nutrition facts with the longest length to guarantee that it would have the maximum amount of nutrients data present."
   ]
  },
  {
   "cell_type": "markdown",
   "metadata": {},
   "source": [
    "##"
   ]
  },
  {
   "cell_type": "code",
   "execution_count": 16,
   "metadata": {},
   "outputs": [
    {
     "name": "stdout",
     "output_type": "stream",
     "text": [
      "Nutrition Facts\n",
      "Servings Per Recipe 1\n",
      "Calories 5974\n",
      "% Daily Value *\n",
      "Total Fat 492g 630%\n",
      "Saturated Fat 287g 1,434%\n",
      "Cholesterol 1615mg 538%\n",
      "Sodium 7191mg 313%\n",
      "Total Carbohydrate 319g 116%\n",
      "Dietary Fiber 20g 72%\n",
      "Total Sugars 264g\n",
      "Protein 100g\n",
      "Vitamin C 27mg 133%\n",
      "Calcium 625mg 48%\n",
      "Iron 0mg 2%\n",
      "Potassium 775mg 16%\n",
      "* Percent Daily Values are based on a 2,000 calorie diet. Your daily values may be higher or lower depending on your calorie needs.\n",
      "** Nutrient information is not available for all ingredients. Amount is based on available nutrient data.\n",
      "(-) Information is not currently available for this nutrient. If you are following a medically restrictive diet, please consult your doctor or registered dietitian before preparing this recipe for personal consumption.\n",
      "Powered by the ESHA Research Database © 2018, ESHA Research, Inc. All Rights Reserved\n"
     ]
    }
   ],
   "source": [
    "max_str_length = (\n",
    "    all_recipes_source_df.Nutrition_facts_unstructured.str.len().max()\n",
    ")\n",
    "\n",
    "longest_text = all_recipes_source_df.query(\n",
    "    f\" Nutrition_facts_unstructured.str.len() == {max_str_length}\"\n",
    ").Nutrition_facts_unstructured.values[0]\n",
    "print(longest_text)"
   ]
  },
  {
   "cell_type": "code",
   "execution_count": 33,
   "metadata": {},
   "outputs": [
    {
     "name": "stdout",
     "output_type": "stream",
     "text": [
      "serving ['1']\n",
      "calories ['5974']\n",
      "total_fat ['492g', '630%']\n",
      "saturated_fat ['287g', '1,434%']\n",
      "sodium ['7191mg', '313%']\n",
      "cholesterol ['1615mg', '538%']\n",
      "total_carbs ['319g', '116%']\n",
      "dietary_fiber ['20g', '72%']\n",
      "total_sugars ['264g']\n",
      "protein ['100g']\n",
      "vitamin_c ['27mg', '133%']\n",
      "calcium ['625mg', '48%']\n",
      "iron ['0mg', '2%']\n",
      "potassium ['775mg', '16%']\n"
     ]
    },
    {
     "data": {
      "text/plain": [
       "{'serving': 1,\n",
       " 'calories': 5974,\n",
       " 'total_fat_g': 492,\n",
       " 'total_fat_prct_daily': 630,\n",
       " 'saturated_fat_g': 287,\n",
       " 'saturated_fat_prct_daily': 1434,\n",
       " 'sodium_mg': 7191,\n",
       " 'sodium_prct_daily': 313,\n",
       " 'cholesterol_mg': 1615,\n",
       " 'cholesterol_prct_daily': 538,\n",
       " 'total_carbs_g': 319,\n",
       " 'total_carbs_prct_daily': 116,\n",
       " 'dietary_fiber_g': 20,\n",
       " 'dietary_fiber_prct_daily': 72,\n",
       " 'total_sugars': 264,\n",
       " 'protein': 100,\n",
       " 'vitamin_c_mg': 27,\n",
       " 'vitamin_c_prct_daily': 133,\n",
       " 'calcium_mg': 625,\n",
       " 'calcium_prct_daily': 48,\n",
       " 'iron_mg': 0,\n",
       " 'iron_prct_daily': 2,\n",
       " 'potassium_mg': 775,\n",
       " 'potassium_prct_daily': 16}"
      ]
     },
     "execution_count": 33,
     "metadata": {},
     "output_type": "execute_result"
    }
   ],
   "source": [
    "nutrition_facts_parser(longest_text)"
   ]
  }
 ],
 "metadata": {
  "kernelspec": {
   "display_name": "foodflex",
   "language": "python",
   "name": "python3"
  },
  "language_info": {
   "codemirror_mode": {
    "name": "ipython",
    "version": 3
   },
   "file_extension": ".py",
   "mimetype": "text/x-python",
   "name": "python",
   "nbconvert_exporter": "python",
   "pygments_lexer": "ipython3",
   "version": "3.11.4"
  },
  "orig_nbformat": 4
 },
 "nbformat": 4,
 "nbformat_minor": 2
}
