{
 "cells": [
  {
   "cell_type": "code",
   "execution_count": 168,
   "metadata": {},
   "outputs": [
    {
     "name": "stdout",
     "output_type": "stream",
     "text": [
      "The autoreload extension is already loaded. To reload it, use:\n",
      "  %reload_ext autoreload\n"
     ]
    }
   ],
   "source": [
    "%load_ext autoreload\n",
    "%autoreload 2"
   ]
  },
  {
   "cell_type": "code",
   "execution_count": 169,
   "metadata": {},
   "outputs": [],
   "source": [
    "import pandas as pd\n",
    "import numpy as np\n",
    "import time\n",
    "from typing import List\n",
    "import pickle\n",
    "\n",
    "import sys\n",
    "\n",
    "sys.path.insert(0, \"../\")  # needed for using the utils file in the notebook.\n",
    "from src.utils import nutrition_facts_parser, sort_ingredients_alphabetically\n",
    "from sentence_transformers import SentenceTransformer, util\n",
    "\n",
    "from rich import inspect\n",
    "from tqdm.notebook import tqdm\n",
    "\n",
    "from transformers import AutoTokenizer, AutoModel\n",
    "import torch\n",
    "\n",
    "pd.set_option(\"display.max_columns\", None)\n",
    "pd.set_option(\"display.max_rows\", None)"
   ]
  },
  {
   "cell_type": "markdown",
   "metadata": {},
   "source": [
    "## merging the title of the recipes back:"
   ]
  },
  {
   "cell_type": "code",
   "execution_count": 170,
   "metadata": {},
   "outputs": [
    {
     "name": "stdout",
     "output_type": "stream",
     "text": [
      "(41080, 3)\n"
     ]
    },
    {
     "data": {
      "text/html": [
       "<div>\n",
       "<style scoped>\n",
       "    .dataframe tbody tr th:only-of-type {\n",
       "        vertical-align: middle;\n",
       "    }\n",
       "\n",
       "    .dataframe tbody tr th {\n",
       "        vertical-align: top;\n",
       "    }\n",
       "\n",
       "    .dataframe thead th {\n",
       "        text-align: right;\n",
       "    }\n",
       "</style>\n",
       "<table border=\"1\" class=\"dataframe\">\n",
       "  <thead>\n",
       "    <tr style=\"text-align: right;\">\n",
       "      <th></th>\n",
       "      <th>link</th>\n",
       "      <th>NER</th>\n",
       "      <th>Nutrition_facts_unstructured</th>\n",
       "    </tr>\n",
       "  </thead>\n",
       "  <tbody>\n",
       "    <tr>\n",
       "      <th>0</th>\n",
       "      <td>www.allrecipes.com/recipe/241895/deconstructed...</td>\n",
       "      <td>['orange juice', 'jiggers vodka']</td>\n",
       "      <td>Nutrition Facts\\nServings Per Recipe 1\\nCalori...</td>\n",
       "    </tr>\n",
       "    <tr>\n",
       "      <th>1</th>\n",
       "      <td>www.allrecipes.com/recipe/20808/kettle-corn/</td>\n",
       "      <td>['vegetable oil', 'white sugar', 'popcorn kern...</td>\n",
       "      <td>Nutrition Facts\\nServings Per Recipe 5\\nCalori...</td>\n",
       "    </tr>\n",
       "    <tr>\n",
       "      <th>2</th>\n",
       "      <td>www.allrecipes.com/recipe/238733/pops-fabulous...</td>\n",
       "      <td>['eggplants', 'green bell peppers', 'red bell ...</td>\n",
       "      <td>Nutrition Facts\\nServings Per Recipe 10\\nCalor...</td>\n",
       "    </tr>\n",
       "    <tr>\n",
       "      <th>3</th>\n",
       "      <td>www.allrecipes.com/recipe/241254/chipotle-mang...</td>\n",
       "      <td>['avocados', 'tomatoes', 'mango', 'cilantro', ...</td>\n",
       "      <td>Nutrition Facts\\nServings Per Recipe 20\\nCalor...</td>\n",
       "    </tr>\n",
       "    <tr>\n",
       "      <th>4</th>\n",
       "      <td>www.allrecipes.com/recipe/261696/basic-homemad...</td>\n",
       "      <td>['milk', 'heavy whipping cream', 'white vinega...</td>\n",
       "      <td>Nutrition Facts\\nServings Per Recipe 4\\nCalori...</td>\n",
       "    </tr>\n",
       "  </tbody>\n",
       "</table>\n",
       "</div>"
      ],
      "text/plain": [
       "                                                link  \\\n",
       "0  www.allrecipes.com/recipe/241895/deconstructed...   \n",
       "1       www.allrecipes.com/recipe/20808/kettle-corn/   \n",
       "2  www.allrecipes.com/recipe/238733/pops-fabulous...   \n",
       "3  www.allrecipes.com/recipe/241254/chipotle-mang...   \n",
       "4  www.allrecipes.com/recipe/261696/basic-homemad...   \n",
       "\n",
       "                                                 NER  \\\n",
       "0                  ['orange juice', 'jiggers vodka']   \n",
       "1  ['vegetable oil', 'white sugar', 'popcorn kern...   \n",
       "2  ['eggplants', 'green bell peppers', 'red bell ...   \n",
       "3  ['avocados', 'tomatoes', 'mango', 'cilantro', ...   \n",
       "4  ['milk', 'heavy whipping cream', 'white vinega...   \n",
       "\n",
       "                        Nutrition_facts_unstructured  \n",
       "0  Nutrition Facts\\nServings Per Recipe 1\\nCalori...  \n",
       "1  Nutrition Facts\\nServings Per Recipe 5\\nCalori...  \n",
       "2  Nutrition Facts\\nServings Per Recipe 10\\nCalor...  \n",
       "3  Nutrition Facts\\nServings Per Recipe 20\\nCalor...  \n",
       "4  Nutrition Facts\\nServings Per Recipe 4\\nCalori...  "
      ]
     },
     "execution_count": 170,
     "metadata": {},
     "output_type": "execute_result"
    }
   ],
   "source": [
    "recipes_path = \"../data/full_dataset.csv\"\n",
    "recipe_title_link = pd.read_csv(\n",
    "    recipes_path,\n",
    "    index_col=0,\n",
    "    usecols=[\"title\", \"link\"],\n",
    "    dtype={\n",
    "        \"title\": \"string[pyarrow]\",\n",
    "        \"link\": \"string[pyarrow]\",\n",
    "    },\n",
    ")\n",
    "recipe_title_link = recipe_title_link.query(\n",
    "    \" link.str.contains('allrecipes.com') \"\n",
    ")\n",
    "\n",
    "\n",
    "data = pd.read_csv(\"all_recipes_data_w_nutrition_facts_unstructured.csv\")\n",
    "data_w_nutrition = data.query(\" Nutrition_facts_unstructured.notnull() \")\n",
    "print(data_w_nutrition.shape)\n",
    "\n",
    "data_w_nutrition.head()"
   ]
  },
  {
   "cell_type": "code",
   "execution_count": 171,
   "metadata": {},
   "outputs": [
    {
     "name": "stdout",
     "output_type": "stream",
     "text": [
      "(41080, 4)\n"
     ]
    },
    {
     "data": {
      "text/html": [
       "<div>\n",
       "<style scoped>\n",
       "    .dataframe tbody tr th:only-of-type {\n",
       "        vertical-align: middle;\n",
       "    }\n",
       "\n",
       "    .dataframe tbody tr th {\n",
       "        vertical-align: top;\n",
       "    }\n",
       "\n",
       "    .dataframe thead th {\n",
       "        text-align: right;\n",
       "    }\n",
       "</style>\n",
       "<table border=\"1\" class=\"dataframe\">\n",
       "  <thead>\n",
       "    <tr style=\"text-align: right;\">\n",
       "      <th></th>\n",
       "      <th>link</th>\n",
       "      <th>NER</th>\n",
       "      <th>Nutrition_facts_unstructured</th>\n",
       "      <th>title</th>\n",
       "    </tr>\n",
       "  </thead>\n",
       "  <tbody>\n",
       "    <tr>\n",
       "      <th>0</th>\n",
       "      <td>www.allrecipes.com/recipe/241895/deconstructed...</td>\n",
       "      <td>['orange juice', 'jiggers vodka']</td>\n",
       "      <td>Nutrition Facts\\nServings Per Recipe 1\\nCalori...</td>\n",
       "      <td>Deconstructed Screwdriver (The Raw Egg)</td>\n",
       "    </tr>\n",
       "    <tr>\n",
       "      <th>1</th>\n",
       "      <td>www.allrecipes.com/recipe/20808/kettle-corn/</td>\n",
       "      <td>['vegetable oil', 'white sugar', 'popcorn kern...</td>\n",
       "      <td>Nutrition Facts\\nServings Per Recipe 5\\nCalori...</td>\n",
       "      <td>Kettle Corn</td>\n",
       "    </tr>\n",
       "    <tr>\n",
       "      <th>2</th>\n",
       "      <td>www.allrecipes.com/recipe/238733/pops-fabulous...</td>\n",
       "      <td>['eggplants', 'green bell peppers', 'red bell ...</td>\n",
       "      <td>Nutrition Facts\\nServings Per Recipe 10\\nCalor...</td>\n",
       "      <td>Pop'S Fabulous Ajvar</td>\n",
       "    </tr>\n",
       "    <tr>\n",
       "      <th>3</th>\n",
       "      <td>www.allrecipes.com/recipe/241254/chipotle-mang...</td>\n",
       "      <td>['avocados', 'tomatoes', 'mango', 'cilantro', ...</td>\n",
       "      <td>Nutrition Facts\\nServings Per Recipe 20\\nCalor...</td>\n",
       "      <td>Chipotle-Mango Guacamole</td>\n",
       "    </tr>\n",
       "    <tr>\n",
       "      <th>4</th>\n",
       "      <td>www.allrecipes.com/recipe/261696/basic-homemad...</td>\n",
       "      <td>['milk', 'heavy whipping cream', 'white vinega...</td>\n",
       "      <td>Nutrition Facts\\nServings Per Recipe 4\\nCalori...</td>\n",
       "      <td>Basic Homemade Ricotta Cheese</td>\n",
       "    </tr>\n",
       "  </tbody>\n",
       "</table>\n",
       "</div>"
      ],
      "text/plain": [
       "                                                link  \\\n",
       "0  www.allrecipes.com/recipe/241895/deconstructed...   \n",
       "1       www.allrecipes.com/recipe/20808/kettle-corn/   \n",
       "2  www.allrecipes.com/recipe/238733/pops-fabulous...   \n",
       "3  www.allrecipes.com/recipe/241254/chipotle-mang...   \n",
       "4  www.allrecipes.com/recipe/261696/basic-homemad...   \n",
       "\n",
       "                                                 NER  \\\n",
       "0                  ['orange juice', 'jiggers vodka']   \n",
       "1  ['vegetable oil', 'white sugar', 'popcorn kern...   \n",
       "2  ['eggplants', 'green bell peppers', 'red bell ...   \n",
       "3  ['avocados', 'tomatoes', 'mango', 'cilantro', ...   \n",
       "4  ['milk', 'heavy whipping cream', 'white vinega...   \n",
       "\n",
       "                        Nutrition_facts_unstructured  \\\n",
       "0  Nutrition Facts\\nServings Per Recipe 1\\nCalori...   \n",
       "1  Nutrition Facts\\nServings Per Recipe 5\\nCalori...   \n",
       "2  Nutrition Facts\\nServings Per Recipe 10\\nCalor...   \n",
       "3  Nutrition Facts\\nServings Per Recipe 20\\nCalor...   \n",
       "4  Nutrition Facts\\nServings Per Recipe 4\\nCalori...   \n",
       "\n",
       "                                     title  \n",
       "0  Deconstructed Screwdriver (The Raw Egg)  \n",
       "1                              Kettle Corn  \n",
       "2                     Pop'S Fabulous Ajvar  \n",
       "3                 Chipotle-Mango Guacamole  \n",
       "4            Basic Homemade Ricotta Cheese  "
      ]
     },
     "execution_count": 171,
     "metadata": {},
     "output_type": "execute_result"
    }
   ],
   "source": [
    "data_w_nutrition = data_w_nutrition.merge(\n",
    "    recipe_title_link.reset_index(),\n",
    "    on=\"link\",\n",
    "    how=\"left\",\n",
    "    validate=\"1:1\",\n",
    "    copy=False,\n",
    ")\n",
    "print(data_w_nutrition.shape)\n",
    "data_w_nutrition.head()"
   ]
  },
  {
   "cell_type": "code",
   "execution_count": 172,
   "metadata": {},
   "outputs": [
    {
     "data": {
      "text/plain": [
       "(Index(['link'], dtype='object'),\n",
       " Index(['link', 'NER', 'Nutrition_facts_unstructured', 'title'], dtype='object'))"
      ]
     },
     "execution_count": 172,
     "metadata": {},
     "output_type": "execute_result"
    }
   ],
   "source": [
    "recipe_title_link.columns, data_w_nutrition.columns"
   ]
  },
  {
   "cell_type": "markdown",
   "metadata": {},
   "source": [
    "## sort NER ingredients alphabetically:"
   ]
  },
  {
   "cell_type": "code",
   "execution_count": 173,
   "metadata": {},
   "outputs": [
    {
     "data": {
      "text/html": [
       "<div>\n",
       "<style scoped>\n",
       "    .dataframe tbody tr th:only-of-type {\n",
       "        vertical-align: middle;\n",
       "    }\n",
       "\n",
       "    .dataframe tbody tr th {\n",
       "        vertical-align: top;\n",
       "    }\n",
       "\n",
       "    .dataframe thead th {\n",
       "        text-align: right;\n",
       "    }\n",
       "</style>\n",
       "<table border=\"1\" class=\"dataframe\">\n",
       "  <thead>\n",
       "    <tr style=\"text-align: right;\">\n",
       "      <th></th>\n",
       "      <th>link</th>\n",
       "      <th>NER</th>\n",
       "      <th>Nutrition_facts_unstructured</th>\n",
       "      <th>title</th>\n",
       "      <th>sorted_NER</th>\n",
       "    </tr>\n",
       "  </thead>\n",
       "  <tbody>\n",
       "    <tr>\n",
       "      <th>0</th>\n",
       "      <td>www.allrecipes.com/recipe/241895/deconstructed...</td>\n",
       "      <td>[orange juice, jiggers vodka]</td>\n",
       "      <td>Nutrition Facts\\nServings Per Recipe 1\\nCalori...</td>\n",
       "      <td>Deconstructed Screwdriver (The Raw Egg)</td>\n",
       "      <td>[jiggers vodka, orange juice]</td>\n",
       "    </tr>\n",
       "    <tr>\n",
       "      <th>1</th>\n",
       "      <td>www.allrecipes.com/recipe/20808/kettle-corn/</td>\n",
       "      <td>[vegetable oil, white sugar, popcorn kernels]</td>\n",
       "      <td>Nutrition Facts\\nServings Per Recipe 5\\nCalori...</td>\n",
       "      <td>Kettle Corn</td>\n",
       "      <td>[popcorn kernels, vegetable oil, white sugar]</td>\n",
       "    </tr>\n",
       "    <tr>\n",
       "      <th>2</th>\n",
       "      <td>www.allrecipes.com/recipe/238733/pops-fabulous...</td>\n",
       "      <td>[eggplants, green bell peppers, red bell peppe...</td>\n",
       "      <td>Nutrition Facts\\nServings Per Recipe 10\\nCalor...</td>\n",
       "      <td>Pop'S Fabulous Ajvar</td>\n",
       "      <td>[cooking spray, corn oil, eggplants, garlic, g...</td>\n",
       "    </tr>\n",
       "    <tr>\n",
       "      <th>3</th>\n",
       "      <td>www.allrecipes.com/recipe/241254/chipotle-mang...</td>\n",
       "      <td>[avocados, tomatoes, mango, cilantro, red onio...</td>\n",
       "      <td>Nutrition Facts\\nServings Per Recipe 20\\nCalor...</td>\n",
       "      <td>Chipotle-Mango Guacamole</td>\n",
       "      <td>[avocados, black pepper, cayenne pepper, cilan...</td>\n",
       "    </tr>\n",
       "    <tr>\n",
       "      <th>4</th>\n",
       "      <td>www.allrecipes.com/recipe/261696/basic-homemad...</td>\n",
       "      <td>[milk, heavy whipping cream, white vinegar, salt]</td>\n",
       "      <td>Nutrition Facts\\nServings Per Recipe 4\\nCalori...</td>\n",
       "      <td>Basic Homemade Ricotta Cheese</td>\n",
       "      <td>[heavy whipping cream, milk, salt, white vinegar]</td>\n",
       "    </tr>\n",
       "  </tbody>\n",
       "</table>\n",
       "</div>"
      ],
      "text/plain": [
       "                                                link  \\\n",
       "0  www.allrecipes.com/recipe/241895/deconstructed...   \n",
       "1       www.allrecipes.com/recipe/20808/kettle-corn/   \n",
       "2  www.allrecipes.com/recipe/238733/pops-fabulous...   \n",
       "3  www.allrecipes.com/recipe/241254/chipotle-mang...   \n",
       "4  www.allrecipes.com/recipe/261696/basic-homemad...   \n",
       "\n",
       "                                                 NER  \\\n",
       "0                      [orange juice, jiggers vodka]   \n",
       "1      [vegetable oil, white sugar, popcorn kernels]   \n",
       "2  [eggplants, green bell peppers, red bell peppe...   \n",
       "3  [avocados, tomatoes, mango, cilantro, red onio...   \n",
       "4  [milk, heavy whipping cream, white vinegar, salt]   \n",
       "\n",
       "                        Nutrition_facts_unstructured  \\\n",
       "0  Nutrition Facts\\nServings Per Recipe 1\\nCalori...   \n",
       "1  Nutrition Facts\\nServings Per Recipe 5\\nCalori...   \n",
       "2  Nutrition Facts\\nServings Per Recipe 10\\nCalor...   \n",
       "3  Nutrition Facts\\nServings Per Recipe 20\\nCalor...   \n",
       "4  Nutrition Facts\\nServings Per Recipe 4\\nCalori...   \n",
       "\n",
       "                                     title  \\\n",
       "0  Deconstructed Screwdriver (The Raw Egg)   \n",
       "1                              Kettle Corn   \n",
       "2                     Pop'S Fabulous Ajvar   \n",
       "3                 Chipotle-Mango Guacamole   \n",
       "4            Basic Homemade Ricotta Cheese   \n",
       "\n",
       "                                          sorted_NER  \n",
       "0                      [jiggers vodka, orange juice]  \n",
       "1      [popcorn kernels, vegetable oil, white sugar]  \n",
       "2  [cooking spray, corn oil, eggplants, garlic, g...  \n",
       "3  [avocados, black pepper, cayenne pepper, cilan...  \n",
       "4  [heavy whipping cream, milk, salt, white vinegar]  "
      ]
     },
     "execution_count": 173,
     "metadata": {},
     "output_type": "execute_result"
    }
   ],
   "source": [
    "data_w_nutrition.NER = data_w_nutrition.NER.apply(eval)\n",
    "\n",
    "data_w_nutrition[\"sorted_NER\"] = data_w_nutrition.NER.apply(\n",
    "    sort_ingredients_alphabetically\n",
    ")\n",
    "data_w_nutrition.head()"
   ]
  },
  {
   "cell_type": "markdown",
   "metadata": {},
   "source": [
    "## Prepare for Sentence Transformer:\n",
    "- create singular \"recipes\" from each unique ingredient in the corpus --> each ingredient would have its own embedding as well.\n",
    "- get an embedding for each recipe based on the sorted NER ingredients."
   ]
  },
  {
   "cell_type": "code",
   "execution_count": 174,
   "metadata": {},
   "outputs": [
    {
     "data": {
      "text/plain": [
       "9900"
      ]
     },
     "execution_count": 174,
     "metadata": {},
     "output_type": "execute_result"
    }
   ],
   "source": [
    "all_ingredients = set(data_w_nutrition.NER.explode())\n",
    "all_ingredients.remove(np.nan)\n",
    "len(all_ingredients)"
   ]
  },
  {
   "cell_type": "code",
   "execution_count": 175,
   "metadata": {},
   "outputs": [
    {
     "data": {
      "text/plain": [
       "Index(['link', 'NER', 'Nutrition_facts_unstructured', 'title', 'sorted_NER'], dtype='object')"
      ]
     },
     "execution_count": 175,
     "metadata": {},
     "output_type": "execute_result"
    }
   ],
   "source": [
    "data_w_nutrition.columns"
   ]
  },
  {
   "cell_type": "code",
   "execution_count": 176,
   "metadata": {},
   "outputs": [
    {
     "name": "stdout",
     "output_type": "stream",
     "text": [
      "(9900, 5)\n"
     ]
    },
    {
     "data": {
      "text/html": [
       "<div>\n",
       "<style scoped>\n",
       "    .dataframe tbody tr th:only-of-type {\n",
       "        vertical-align: middle;\n",
       "    }\n",
       "\n",
       "    .dataframe tbody tr th {\n",
       "        vertical-align: top;\n",
       "    }\n",
       "\n",
       "    .dataframe thead th {\n",
       "        text-align: right;\n",
       "    }\n",
       "</style>\n",
       "<table border=\"1\" class=\"dataframe\">\n",
       "  <thead>\n",
       "    <tr style=\"text-align: right;\">\n",
       "      <th></th>\n",
       "      <th>link</th>\n",
       "      <th>NER</th>\n",
       "      <th>Nutrition_facts_unstructured</th>\n",
       "      <th>title</th>\n",
       "      <th>sorted_NER</th>\n",
       "    </tr>\n",
       "  </thead>\n",
       "  <tbody>\n",
       "    <tr>\n",
       "      <th>0</th>\n",
       "      <td>NaN</td>\n",
       "      <td>[strawberry flavored]</td>\n",
       "      <td>NaN</td>\n",
       "      <td>strawberry flavored</td>\n",
       "      <td>[strawberry flavored]</td>\n",
       "    </tr>\n",
       "    <tr>\n",
       "      <th>1</th>\n",
       "      <td>NaN</td>\n",
       "      <td>[graham crumbs]</td>\n",
       "      <td>NaN</td>\n",
       "      <td>graham crumbs</td>\n",
       "      <td>[graham crumbs]</td>\n",
       "    </tr>\n",
       "    <tr>\n",
       "      <th>2</th>\n",
       "      <td>NaN</td>\n",
       "      <td>[Falafel]</td>\n",
       "      <td>NaN</td>\n",
       "      <td>Falafel</td>\n",
       "      <td>[Falafel]</td>\n",
       "    </tr>\n",
       "    <tr>\n",
       "      <th>3</th>\n",
       "      <td>NaN</td>\n",
       "      <td>[serrano chiles]</td>\n",
       "      <td>NaN</td>\n",
       "      <td>serrano chiles</td>\n",
       "      <td>[serrano chiles]</td>\n",
       "    </tr>\n",
       "    <tr>\n",
       "      <th>4</th>\n",
       "      <td>NaN</td>\n",
       "      <td>[pomelo]</td>\n",
       "      <td>NaN</td>\n",
       "      <td>pomelo</td>\n",
       "      <td>[pomelo]</td>\n",
       "    </tr>\n",
       "  </tbody>\n",
       "</table>\n",
       "</div>"
      ],
      "text/plain": [
       "   link                    NER  Nutrition_facts_unstructured  \\\n",
       "0   NaN  [strawberry flavored]                           NaN   \n",
       "1   NaN        [graham crumbs]                           NaN   \n",
       "2   NaN              [Falafel]                           NaN   \n",
       "3   NaN       [serrano chiles]                           NaN   \n",
       "4   NaN               [pomelo]                           NaN   \n",
       "\n",
       "                 title             sorted_NER  \n",
       "0  strawberry flavored  [strawberry flavored]  \n",
       "1        graham crumbs        [graham crumbs]  \n",
       "2              Falafel              [Falafel]  \n",
       "3       serrano chiles       [serrano chiles]  \n",
       "4               pomelo               [pomelo]  "
      ]
     },
     "execution_count": 176,
     "metadata": {},
     "output_type": "execute_result"
    }
   ],
   "source": [
    "# create a 1 ingredient recipe so that we can get the embedding of each ingredient:\n",
    "\n",
    "singular_ingredient_recipes_data = []\n",
    "\n",
    "for ingredient in all_ingredients:\n",
    "    singular_ingredient_recipes_data.append(\n",
    "        {\n",
    "            \"link\": np.nan,\n",
    "            \"NER\": [ingredient],\n",
    "            \"Nutrition_facts_unstructured\": np.nan,\n",
    "            \"title\": ingredient,\n",
    "            \"sorted_NER\": [ingredient],\n",
    "        }\n",
    "    )\n",
    "singular_ingredient_recipes = pd.DataFrame(\n",
    "    data=singular_ingredient_recipes_data\n",
    ")\n",
    "print(singular_ingredient_recipes.shape)\n",
    "singular_ingredient_recipes.head()"
   ]
  },
  {
   "cell_type": "code",
   "execution_count": 177,
   "metadata": {},
   "outputs": [
    {
     "name": "stdout",
     "output_type": "stream",
     "text": [
      "(50980, 5)\n"
     ]
    }
   ],
   "source": [
    "data_w_nutrition = pd.concat([data_w_nutrition, singular_ingredient_recipes])\n",
    "print(data_w_nutrition.shape)"
   ]
  },
  {
   "cell_type": "code",
   "execution_count": 178,
   "metadata": {},
   "outputs": [
    {
     "data": {
      "text/plain": [
       "link                            9900\n",
       "NER                                0\n",
       "Nutrition_facts_unstructured    9900\n",
       "title                              0\n",
       "sorted_NER                         0\n",
       "dtype: int64"
      ]
     },
     "execution_count": 178,
     "metadata": {},
     "output_type": "execute_result"
    }
   ],
   "source": [
    "data_w_nutrition.isnull().sum()"
   ]
  },
  {
   "cell_type": "code",
   "execution_count": 179,
   "metadata": {},
   "outputs": [
    {
     "data": {
      "text/html": [
       "<div>\n",
       "<style scoped>\n",
       "    .dataframe tbody tr th:only-of-type {\n",
       "        vertical-align: middle;\n",
       "    }\n",
       "\n",
       "    .dataframe tbody tr th {\n",
       "        vertical-align: top;\n",
       "    }\n",
       "\n",
       "    .dataframe thead th {\n",
       "        text-align: right;\n",
       "    }\n",
       "</style>\n",
       "<table border=\"1\" class=\"dataframe\">\n",
       "  <thead>\n",
       "    <tr style=\"text-align: right;\">\n",
       "      <th></th>\n",
       "      <th>link</th>\n",
       "      <th>NER</th>\n",
       "      <th>Nutrition_facts_unstructured</th>\n",
       "      <th>title</th>\n",
       "      <th>sorted_NER</th>\n",
       "      <th>sorted_joined_NER</th>\n",
       "    </tr>\n",
       "  </thead>\n",
       "  <tbody>\n",
       "    <tr>\n",
       "      <th>9413</th>\n",
       "      <td>www.allrecipes.com/recipe/255460/apple-fritter...</td>\n",
       "      <td>[cooking spray, white sugar, butter, eggs, van...</td>\n",
       "      <td>Nutrition Facts\\nServings Per Recipe 20\\nCalor...</td>\n",
       "      <td>Apple Fritter Bread</td>\n",
       "      <td>[all-purpose, apple pie filling, baking soda, ...</td>\n",
       "      <td>all-purpose apple pie filling baking soda butt...</td>\n",
       "    </tr>\n",
       "  </tbody>\n",
       "</table>\n",
       "</div>"
      ],
      "text/plain": [
       "                                                   link  \\\n",
       "9413  www.allrecipes.com/recipe/255460/apple-fritter...   \n",
       "\n",
       "                                                    NER  \\\n",
       "9413  [cooking spray, white sugar, butter, eggs, van...   \n",
       "\n",
       "                           Nutrition_facts_unstructured                title  \\\n",
       "9413  Nutrition Facts\\nServings Per Recipe 20\\nCalor...  Apple Fritter Bread   \n",
       "\n",
       "                                             sorted_NER  \\\n",
       "9413  [all-purpose, apple pie filling, baking soda, ...   \n",
       "\n",
       "                                      sorted_joined_NER  \n",
       "9413  all-purpose apple pie filling baking soda butt...  "
      ]
     },
     "execution_count": 179,
     "metadata": {},
     "output_type": "execute_result"
    }
   ],
   "source": [
    "data_w_nutrition['sorted_joined_NER'] = data_w_nutrition.sorted_NER.str.join(\" \")\n",
    "\n",
    "data_w_nutrition.sample()"
   ]
  },
  {
   "cell_type": "code",
   "execution_count": 180,
   "metadata": {},
   "outputs": [
    {
     "data": {
      "text/plain": [
       "37"
      ]
     },
     "execution_count": 180,
     "metadata": {},
     "output_type": "execute_result"
    }
   ],
   "source": [
    "# max ingredient count in a recipe:\n",
    "max_number_ingredients_per_recipe = data_w_nutrition.NER.apply(len).max()\n",
    "max_number_ingredients_per_recipe"
   ]
  },
  {
   "cell_type": "code",
   "execution_count": 181,
   "metadata": {},
   "outputs": [],
   "source": [
    "device = \"mps\" if torch.backends.mps.is_available() else \"cpu\"\n",
    "\n",
    "\n",
    "# Mean Pooling - Take attention mask into account for correct averaging\n",
    "def mean_pooling(model_output, attention_mask):\n",
    "    token_embeddings = model_output[\n",
    "        0\n",
    "    ]  # First element of model_output contains all token embeddings\n",
    "    input_mask_expanded = (\n",
    "        attention_mask.unsqueeze(-1).expand(token_embeddings.size()).float()\n",
    "    )\n",
    "    sum_embeddings = torch.sum(token_embeddings * input_mask_expanded, 1)\n",
    "    sum_mask = torch.clamp(input_mask_expanded.sum(1), min=1e-9)\n",
    "    return sum_embeddings / sum_mask\n",
    "\n",
    "def get_embedding(sentence: str):\n",
    "    # Load AutoModel from huggingface model repository\n",
    "    tokenizer = AutoTokenizer.from_pretrained(\n",
    "        \"sentence-transformers/all-MiniLM-L6-v2\"\n",
    "    )\n",
    "    model = AutoModel.from_pretrained(\"sentence-transformers/all-MiniLM-L6-v2\")\n",
    "    model.to(device=device)\n",
    "    # Tokenize sentences\n",
    "    encoded_input = tokenizer(\n",
    "        sentence,\n",
    "        padding=True,\n",
    "        truncation=True,\n",
    "        max_length=max_number_ingredients_per_recipe,\n",
    "        return_tensors=\"pt\",\n",
    "    ).to(device=device)\n",
    "\n",
    "    # Compute token embeddings\n",
    "    with torch.no_grad():\n",
    "        model_output = model(**encoded_input)\n",
    "\n",
    "    # Perform pooling. In this case, mean pooling\n",
    "    sentence_embeddings = mean_pooling(\n",
    "        model_output, encoded_input[\"attention_mask\"]\n",
    "    )\n",
    "    return sentence_embeddings\n",
    "\n",
    "# make sure we apply new indexing to retrieve the recipes later:\n",
    "data_w_nutrition = data_w_nutrition.reset_index(drop=True)\n",
    "# corpus:\n",
    "# sentences = data_w_nutrition.sorted_joined_NER.tolist()\n",
    "\n",
    "\n",
    "# sentences_embeddings = data_w_nutrition.sorted_joined_NER.progress_apply(get_embedding)"
   ]
  },
  {
   "cell_type": "code",
   "execution_count": 182,
   "metadata": {},
   "outputs": [
    {
     "data": {
      "text/plain": [
       "'jiggers vodka orange juice'"
      ]
     },
     "execution_count": 182,
     "metadata": {},
     "output_type": "execute_result"
    }
   ],
   "source": [
    "data_w_nutrition.sorted_joined_NER.values[0]"
   ]
  },
  {
   "cell_type": "code",
   "execution_count": 183,
   "metadata": {},
   "outputs": [
    {
     "data": {
      "text/html": [
       "<div>\n",
       "<style scoped>\n",
       "    .dataframe tbody tr th:only-of-type {\n",
       "        vertical-align: middle;\n",
       "    }\n",
       "\n",
       "    .dataframe tbody tr th {\n",
       "        vertical-align: top;\n",
       "    }\n",
       "\n",
       "    .dataframe thead th {\n",
       "        text-align: right;\n",
       "    }\n",
       "</style>\n",
       "<table border=\"1\" class=\"dataframe\">\n",
       "  <thead>\n",
       "    <tr style=\"text-align: right;\">\n",
       "      <th></th>\n",
       "      <th>link</th>\n",
       "      <th>NER</th>\n",
       "      <th>Nutrition_facts_unstructured</th>\n",
       "      <th>title</th>\n",
       "      <th>sorted_NER</th>\n",
       "      <th>sorted_joined_NER</th>\n",
       "    </tr>\n",
       "  </thead>\n",
       "  <tbody>\n",
       "    <tr>\n",
       "      <th>0</th>\n",
       "      <td>www.allrecipes.com/recipe/241895/deconstructed...</td>\n",
       "      <td>[orange juice, jiggers vodka]</td>\n",
       "      <td>Nutrition Facts\\nServings Per Recipe 1\\nCalori...</td>\n",
       "      <td>Deconstructed Screwdriver (The Raw Egg)</td>\n",
       "      <td>[jiggers vodka, orange juice]</td>\n",
       "      <td>jiggers vodka orange juice</td>\n",
       "    </tr>\n",
       "    <tr>\n",
       "      <th>1</th>\n",
       "      <td>www.allrecipes.com/recipe/20808/kettle-corn/</td>\n",
       "      <td>[vegetable oil, white sugar, popcorn kernels]</td>\n",
       "      <td>Nutrition Facts\\nServings Per Recipe 5\\nCalori...</td>\n",
       "      <td>Kettle Corn</td>\n",
       "      <td>[popcorn kernels, vegetable oil, white sugar]</td>\n",
       "      <td>popcorn kernels vegetable oil white sugar</td>\n",
       "    </tr>\n",
       "    <tr>\n",
       "      <th>2</th>\n",
       "      <td>www.allrecipes.com/recipe/238733/pops-fabulous...</td>\n",
       "      <td>[eggplants, green bell peppers, red bell peppe...</td>\n",
       "      <td>Nutrition Facts\\nServings Per Recipe 10\\nCalor...</td>\n",
       "      <td>Pop'S Fabulous Ajvar</td>\n",
       "      <td>[cooking spray, corn oil, eggplants, garlic, g...</td>\n",
       "      <td>cooking spray corn oil eggplants garlic green ...</td>\n",
       "    </tr>\n",
       "    <tr>\n",
       "      <th>3</th>\n",
       "      <td>www.allrecipes.com/recipe/241254/chipotle-mang...</td>\n",
       "      <td>[avocados, tomatoes, mango, cilantro, red onio...</td>\n",
       "      <td>Nutrition Facts\\nServings Per Recipe 20\\nCalor...</td>\n",
       "      <td>Chipotle-Mango Guacamole</td>\n",
       "      <td>[avocados, black pepper, cayenne pepper, cilan...</td>\n",
       "      <td>avocados black pepper cayenne pepper cilantro ...</td>\n",
       "    </tr>\n",
       "    <tr>\n",
       "      <th>4</th>\n",
       "      <td>www.allrecipes.com/recipe/261696/basic-homemad...</td>\n",
       "      <td>[milk, heavy whipping cream, white vinegar, salt]</td>\n",
       "      <td>Nutrition Facts\\nServings Per Recipe 4\\nCalori...</td>\n",
       "      <td>Basic Homemade Ricotta Cheese</td>\n",
       "      <td>[heavy whipping cream, milk, salt, white vinegar]</td>\n",
       "      <td>heavy whipping cream milk salt white vinegar</td>\n",
       "    </tr>\n",
       "  </tbody>\n",
       "</table>\n",
       "</div>"
      ],
      "text/plain": [
       "                                                link  \\\n",
       "0  www.allrecipes.com/recipe/241895/deconstructed...   \n",
       "1       www.allrecipes.com/recipe/20808/kettle-corn/   \n",
       "2  www.allrecipes.com/recipe/238733/pops-fabulous...   \n",
       "3  www.allrecipes.com/recipe/241254/chipotle-mang...   \n",
       "4  www.allrecipes.com/recipe/261696/basic-homemad...   \n",
       "\n",
       "                                                 NER  \\\n",
       "0                      [orange juice, jiggers vodka]   \n",
       "1      [vegetable oil, white sugar, popcorn kernels]   \n",
       "2  [eggplants, green bell peppers, red bell peppe...   \n",
       "3  [avocados, tomatoes, mango, cilantro, red onio...   \n",
       "4  [milk, heavy whipping cream, white vinegar, salt]   \n",
       "\n",
       "                        Nutrition_facts_unstructured  \\\n",
       "0  Nutrition Facts\\nServings Per Recipe 1\\nCalori...   \n",
       "1  Nutrition Facts\\nServings Per Recipe 5\\nCalori...   \n",
       "2  Nutrition Facts\\nServings Per Recipe 10\\nCalor...   \n",
       "3  Nutrition Facts\\nServings Per Recipe 20\\nCalor...   \n",
       "4  Nutrition Facts\\nServings Per Recipe 4\\nCalori...   \n",
       "\n",
       "                                     title  \\\n",
       "0  Deconstructed Screwdriver (The Raw Egg)   \n",
       "1                              Kettle Corn   \n",
       "2                     Pop'S Fabulous Ajvar   \n",
       "3                 Chipotle-Mango Guacamole   \n",
       "4            Basic Homemade Ricotta Cheese   \n",
       "\n",
       "                                          sorted_NER  \\\n",
       "0                      [jiggers vodka, orange juice]   \n",
       "1      [popcorn kernels, vegetable oil, white sugar]   \n",
       "2  [cooking spray, corn oil, eggplants, garlic, g...   \n",
       "3  [avocados, black pepper, cayenne pepper, cilan...   \n",
       "4  [heavy whipping cream, milk, salt, white vinegar]   \n",
       "\n",
       "                                   sorted_joined_NER  \n",
       "0                         jiggers vodka orange juice  \n",
       "1          popcorn kernels vegetable oil white sugar  \n",
       "2  cooking spray corn oil eggplants garlic green ...  \n",
       "3  avocados black pepper cayenne pepper cilantro ...  \n",
       "4       heavy whipping cream milk salt white vinegar  "
      ]
     },
     "execution_count": 183,
     "metadata": {},
     "output_type": "execute_result"
    }
   ],
   "source": [
    "data_w_nutrition.head()"
   ]
  },
  {
   "cell_type": "code",
   "execution_count": 186,
   "metadata": {},
   "outputs": [
    {
     "data": {
      "application/vnd.jupyter.widget-view+json": {
       "model_id": "fd46966f0bb44b98bdeb2e89c170c680",
       "version_major": 2,
       "version_minor": 0
      },
      "text/plain": [
       "  0%|          | 0/50980 [00:00<?, ?it/s]"
      ]
     },
     "metadata": {},
     "output_type": "display_data"
    },
    {
     "name": "stderr",
     "output_type": "stream",
     "text": [
      "'(ReadTimeoutError(\"HTTPSConnectionPool(host='huggingface.co', port=443): Read timed out. (read timeout=10)\"), '(Request ID: 3ad351ab-8325-416d-b32c-5e9a6c4343ea)')' thrown while requesting HEAD https://huggingface.co/sentence-transformers/all-MiniLM-L6-v2/resolve/main/config.json\n",
      "'(ReadTimeoutError(\"HTTPSConnectionPool(host='huggingface.co', port=443): Read timed out. (read timeout=10)\"), '(Request ID: 6a727b90-3900-4cfc-a277-c020af361c2d)')' thrown while requesting HEAD https://huggingface.co/sentence-transformers/all-MiniLM-L6-v2/resolve/main/tokenizer_config.json\n"
     ]
    }
   ],
   "source": [
    "\n",
    "# recipe_title_embeddings = {}\n",
    "with open('recipe_title_embeddings.pkl', \"rb\") as fIn:\n",
    "    recipe_title_embeddings = pickle.load(fIn)\n",
    "\n",
    "\n",
    "try:\n",
    "    for index in tqdm(\n",
    "        data_w_nutrition.index.values\n",
    "    ):\n",
    "        if str(index) not in recipe_title_embeddings.keys():\n",
    "            title_index = str(index)\n",
    "            # print(title_index)\n",
    "            ner = data_w_nutrition.iloc[index].sorted_joined_NER\n",
    "            \n",
    "            recipe_title_embeddings[title_index] = get_embedding(sentence=ner)\n",
    "        # else:\n",
    "            # print(\"in dict already !\")\n",
    "except (KeyboardInterrupt):\n",
    "    with open('recipe_title_embeddings.pkl', \"wb\") as fOut:\n",
    "        pickle.dump(recipe_title_embeddings, fOut, protocol=pickle.HIGHEST_PROTOCOL)\n"
   ]
  },
  {
   "cell_type": "code",
   "execution_count": 187,
   "metadata": {},
   "outputs": [
    {
     "name": "stderr",
     "output_type": "stream",
     "text": [
      "/Users/man-top/miniconda3/envs/foodflex/lib/python3.11/site-packages/PIL/Image.py:125: RuntimeWarning: The _imaging extension was built for another version of Pillow or PIL:\n",
      "Core version: 10.0.0\n",
      "Pillow version: 9.5.0\n",
      "  warnings.warn(str(v), RuntimeWarning)\n",
      "[autoreload of PIL.Image failed: Traceback (most recent call last):\n",
      "  File \"/Users/man-top/miniconda3/envs/foodflex/lib/python3.11/site-packages/IPython/extensions/autoreload.py\", line 276, in check\n",
      "    superreload(m, reload, self.old_objects)\n",
      "  File \"/Users/man-top/miniconda3/envs/foodflex/lib/python3.11/site-packages/IPython/extensions/autoreload.py\", line 475, in superreload\n",
      "    module = reload(module)\n",
      "             ^^^^^^^^^^^^^^\n",
      "  File \"/Users/man-top/miniconda3/envs/foodflex/lib/python3.11/importlib/__init__.py\", line 169, in reload\n",
      "    _bootstrap._exec(spec, module)\n",
      "  File \"<frozen importlib._bootstrap>\", line 621, in _exec\n",
      "  File \"<frozen importlib._bootstrap_external>\", line 940, in exec_module\n",
      "  File \"<frozen importlib._bootstrap>\", line 241, in _call_with_frames_removed\n",
      "  File \"/Users/man-top/miniconda3/envs/foodflex/lib/python3.11/site-packages/PIL/Image.py\", line 111, in <module>\n",
      "    raise ImportError(msg)\n",
      "ImportError: The _imaging extension was built for another version of Pillow or PIL:\n",
      "Core version: 10.0.0\n",
      "Pillow version: 9.5.0\n",
      "]\n"
     ]
    }
   ],
   "source": [
    "with open('recipe_title_embeddings_final.pkl', \"wb\") as fOut:\n",
    "        pickle.dump(recipe_title_embeddings, fOut, protocol=pickle.HIGHEST_PROTOCOL)\n"
   ]
  },
  {
   "cell_type": "code",
   "execution_count": null,
   "metadata": {},
   "outputs": [],
   "source": [
    "corpus_embeddings = corpus_embeddings.to(device)\n",
    "corpus_embeddings = util.normalize_embeddings(corpus_embeddings)\n",
    "\n",
    "query_embeddings = query_embeddings.to(device)\n",
    "# Assuming query_embeddings is a list of individual embeddings\n",
    "average_query_embedding = np.mean(query_embeddings, axis=0)\n",
    "query_embeddings = util.normalize_embeddings(query_embeddings)\n",
    "\n",
    "hits = util.semantic_search(\n",
    "    query_embeddings, corpus_embeddings, score_function=util.dot_score\n",
    ")"
   ]
  }
 ],
 "metadata": {
  "kernelspec": {
   "display_name": "foodflex",
   "language": "python",
   "name": "python3"
  },
  "language_info": {
   "codemirror_mode": {
    "name": "ipython",
    "version": 3
   },
   "file_extension": ".py",
   "mimetype": "text/x-python",
   "name": "python",
   "nbconvert_exporter": "python",
   "pygments_lexer": "ipython3",
   "version": "3.11.4"
  },
  "orig_nbformat": 4
 },
 "nbformat": 4,
 "nbformat_minor": 2
}
